{
 "cells": [
  {
   "cell_type": "code",
   "execution_count": 0,
   "metadata": {
    "collapsed": true,
    "pycharm": {
     "is_executing": false
    }
   },
   "outputs": [],
   "source": [
    "from sklearn.preprocessing import LabelBinarizer\n",
    "\n",
    "# enable to checkpoint and serialize network to disk whenever find an improvement in model performance\n",
    "from tensorflow.keras.callbacks import ModelCheckpoint\n",
    "from tensorflow.keras.optimizers import SGD\n",
    "from tensorflow.keras.datasets import cifar10\n",
    "import argparse\n",
    "import os\n",
    "\n",
    "from tensorflow.keras.models import Sequential\n",
    "from tensorflow.keras.layers import BatchNormalization\n",
    "from tensorflow.keras.layers import Conv2D\n",
    "from tensorflow.keras.layers import MaxPooling2D\n",
    "from tensorflow.keras.layers import Activation\n",
    "from tensorflow.keras.layers import Flatten\n",
    "from tensorflow.keras.layers import Dropout\n",
    "from tensorflow.keras.layers import Dense\n",
    "from tensorflow.keras import backend as K"
   ]
  },
  {
   "cell_type": "code",
   "execution_count": null,
   "metadata": {},
   "outputs": [],
   "source": [
    "class MiniVGGNet:\n",
    "    @staticmethod\n",
    "    def build(width, height, depth, classes):\n",
    "        # initialize model along with input shape to be \"channeôs last\"\n",
    "        model = Sequential()\n",
    "        inputShape = (height, width, depth)\n",
    "        channelDimension = -1                           # -1 = last ordering\n",
    "\n",
    "        # if \"channels first\" update input shape and channels dimension\n",
    "        if K.image_data_format() == \"channels_first\":\n",
    "            inputShape = (depth, height, width)\n",
    "            channelDimension = 1                        # batch normalization operatesover channels - in order to apply\n",
    "                                                        # BN need to know which axis to normalize over, 1 = first order\n",
    "\n",
    "\n",
    "        # first layer - (CONV => RELU => BN) * 2 => POOL => DO\n",
    "        model.add(Conv2D(32, (3, 3), padding=\"same\", input_shape = inputShape))\n",
    "        model.add(Activation(\"relu\"))\n",
    "        model.add(BatchNormalization(axis=channelDimension))\n",
    "\n",
    "        model.add(Conv2D(32, (3, 3), padding=\"same\", input_shape = inputShape))\n",
    "        model.add(Activation(\"relu\"))\n",
    "        model.add(BatchNormalization(axis=channelDimension))\n",
    "\n",
    "        model.add(MaxPooling2D(pool_size=(2, 2)))\n",
    "        model.add(Dropout(0.25))    # node from POOL layer will be randomly disconnected from next layer with prob 25%\n",
    "\n",
    "        # second layer - (CONV => RELU => BN) * 2 => POOL => DO\n",
    "        model.add(Conv2D(64, (3, 3), padding=\"same\"))\n",
    "        model.add(Activation(\"relu\"))\n",
    "        model.add(BatchNormalization(axis=channelDimension))\n",
    "\n",
    "        model.add(Conv2D(64, (3, 3), padding=\"same\"))\n",
    "        model.add(Activation(\"relu\"))\n",
    "        model.add(BatchNormalization(axis=channelDimension))\n",
    "\n",
    "        model.add(MaxPooling2D(pool_size=(2, 2)))\n",
    "        model.add(Dropout(0.25))\n",
    "\n",
    "\n",
    "        # FC => RELU layers\n",
    "        model.add(Flatten())\n",
    "        model.add(Dense(512))                   # 512 nodes\n",
    "        model.add(Activation(\"relu\"))\n",
    "        model.add(BatchNormalization())\n",
    "        model.add(Dropout(0.5))                 # increasing probability to 50%\n",
    "\n",
    "        model.add(Dense(classes))\n",
    "        model.add(Activation(\"softmax\"))\n",
    "\n",
    "        return model"
   ]
  },
  {
   "cell_type": "code",
   "execution_count": null,
   "metadata": {},
   "outputs": [],
   "source": [
    "# will store weights during training process\n",
    "ap = argparse.ArgumentParser()\n",
    "ap.add_argument(\"-w\", \"--weights\", required=True, help=\"path to weights directory\")\n",
    "args = vars(ap.parse_args())\n",
    "\n",
    "# load dataset - training and testing data, then scale it to [0, 1]\n",
    "print(\"[INFO] loading CIFAR-10 data...\")\n",
    "((trainX, trainY), (testX, testY)) = cifar10.load_data()\n",
    "trainX = trainX.astype(\"float\") / 255.0\n",
    "testX = testX.astype(\"float\") / 255.0\n",
    "\n",
    "# convert labels from integers to vectors\n",
    "labBin = LabelBinarizer()\n",
    "trainY = labBin.fit_transform(trainY)\n",
    "testY = labBin.transform(testY)\n",
    "\n",
    "# initialize optimizer and model\n",
    "print(\"[INFO] compiling model...\")\n",
    "opt = SGD(lr=0.01, decay=0.01/40, momentum=0.9, nesterov=True)\n",
    "model = MiniVGGNet.build(width=32, height=32, depth=3, classes=10)\n",
    "model.compile(loss=\"categorical_crossentropy\", optimizer=opt, metrics=[\"accuracy\"])\n",
    "\n",
    "# construct the callback to save only the *best* model to disk based on validation loss\n",
    "fname = os.path.sep.join([args[\"weights\"],\"weights-{epoch:03d}-{val_loss:.4f}.hdf5\"])\n",
    "# monitor - what I am monitoring\n",
    "# mode - max or min - because I am monitoring loss - lower is better -> min (val_acc -> max)\n",
    "# save_best_only - of course true\n",
    "# verbose - simply logs a notification to terminal whe na model is being serialized to disk\n",
    "checkpoint = ModelCheckpoint(fname, monitor=\"val_loss\", mode=\"min\", save_best_only=True, verbose=1)\n",
    "callbacks = [checkpoint]\n"
   ]
  },
  {
   "cell_type": "code",
   "execution_count": null,
   "metadata": {},
   "outputs": [],
   "source": [
    "# train network\n",
    "print(\"[INFO] training network...\")\n",
    "H = model.fit(trainX, trainY, validation_data=(testX, testY), batch_size=64, epochs=40, callbacks=callbacks, verbose=2)"
   ]
  }
 ],
 "metadata": {
  "kernelspec": {
   "display_name": "Python 3",
   "language": "python",
   "name": "python3"
  },
  "language_info": {
   "codemirror_mode": {
    "name": "ipython",
    "version": 3
   },
   "file_extension": ".py",
   "mimetype": "text/x-python",
   "name": "python",
   "nbconvert_exporter": "python",
   "pygments_lexer": "ipython3",
   "version": "3.7.4"
  }
 },
 "nbformat": 4,
 "nbformat_minor": 1
}
