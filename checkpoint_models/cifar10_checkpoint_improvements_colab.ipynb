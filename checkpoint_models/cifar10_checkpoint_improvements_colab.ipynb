{
  "nbformat": 4,
  "nbformat_minor": 0,
  "metadata": {
    "kernelspec": {
      "name": "python3",
      "display_name": "Python 3"
    },
    "language_info": {
      "codemirror_mode": {
        "name": "ipython",
        "version": 3
      },
      "file_extension": ".py",
      "mimetype": "text/x-python",
      "name": "python",
      "nbconvert_exporter": "python",
      "pygments_lexer": "ipython3",
      "version": "3.7.4"
    },
    "colab": {
      "name": "cifar10_checkpoint_improvements_colab.ipynb",
      "provenance": [],
      "include_colab_link": true
    },
    "accelerator": "GPU"
  },
  "cells": [
    {
      "cell_type": "markdown",
      "metadata": {
        "id": "view-in-github",
        "colab_type": "text"
      },
      "source": [
        "<a href=\"https://colab.research.google.com/github/timothyvanco/machineLearning/blob/master/ML_Learning/checkpoint_models/cifar10_checkpoint_improvements_colab.ipynb\" target=\"_parent\"><img src=\"https://colab.research.google.com/assets/colab-badge.svg\" alt=\"Open In Colab\"/></a>"
      ]
    },
    {
      "cell_type": "code",
      "metadata": {
        "pycharm": {
          "is_executing": false
        },
        "id": "r-rr9L68Vbwp",
        "colab_type": "code",
        "colab": {}
      },
      "source": [
        "from sklearn.preprocessing import LabelBinarizer\n",
        "\n",
        "# enable to checkpoint and serialize network to disk whenever find an improvement in model performance\n",
        "from tensorflow.keras.callbacks import ModelCheckpoint, EarlyStopping, ReduceLROnPlateau\n",
        "from tensorflow.keras.optimizers import SGD\n",
        "from tensorflow.keras.datasets import cifar10\n",
        "import argparse\n",
        "import os\n",
        "\n",
        "from tensorflow.keras.models import Sequential\n",
        "from tensorflow.keras.layers import BatchNormalization\n",
        "from tensorflow.keras.layers import Conv2D\n",
        "from tensorflow.keras.layers import MaxPooling2D\n",
        "from tensorflow.keras.layers import Activation\n",
        "from tensorflow.keras.layers import Flatten\n",
        "from tensorflow.keras.layers import Dropout\n",
        "from tensorflow.keras.layers import Dense\n",
        "from tensorflow.keras import backend as K"
      ],
      "execution_count": 0,
      "outputs": []
    },
    {
      "cell_type": "code",
      "metadata": {
        "id": "smYRp_F8Vbw0",
        "colab_type": "code",
        "colab": {}
      },
      "source": [
        "class MiniVGGNet:\n",
        "    @staticmethod\n",
        "    def build(width, height, depth, classes):\n",
        "        # initialize model along with input shape to be \"channeôs last\"\n",
        "        model = Sequential()\n",
        "        inputShape = (height, width, depth)\n",
        "        channelDimension = -1                           # -1 = last ordering\n",
        "\n",
        "        # if \"channels first\" update input shape and channels dimension\n",
        "        if K.image_data_format() == \"channels_first\":\n",
        "            inputShape = (depth, height, width)\n",
        "            channelDimension = 1                        # batch normalization operatesover channels - in order to apply\n",
        "                                                        # BN need to know which axis to normalize over, 1 = first order\n",
        "\n",
        "\n",
        "        # first layer - (CONV => RELU => BN) * 2 => POOL => DO\n",
        "        model.add(Conv2D(32, (3, 3), padding=\"same\", input_shape = inputShape))\n",
        "        model.add(Activation(\"relu\"))\n",
        "        model.add(BatchNormalization(axis=channelDimension))\n",
        "\n",
        "        model.add(Conv2D(32, (3, 3), padding=\"same\", input_shape = inputShape))\n",
        "        model.add(Activation(\"relu\"))\n",
        "        model.add(BatchNormalization(axis=channelDimension))\n",
        "\n",
        "        model.add(MaxPooling2D(pool_size=(2, 2)))\n",
        "        model.add(Dropout(0.25))    # node from POOL layer will be randomly disconnected from next layer with prob 25%\n",
        "\n",
        "        # second layer - (CONV => RELU => BN) * 2 => POOL => DO\n",
        "        model.add(Conv2D(64, (3, 3), padding=\"same\"))\n",
        "        model.add(Activation(\"relu\"))\n",
        "        model.add(BatchNormalization(axis=channelDimension))\n",
        "\n",
        "        model.add(Conv2D(64, (3, 3), padding=\"same\"))\n",
        "        model.add(Activation(\"relu\"))\n",
        "        model.add(BatchNormalization(axis=channelDimension))\n",
        "\n",
        "        model.add(MaxPooling2D(pool_size=(2, 2)))\n",
        "        model.add(Dropout(0.25))\n",
        "\n",
        "\n",
        "        # FC => RELU layers\n",
        "        model.add(Flatten())\n",
        "        model.add(Dense(512))                   # 512 nodes\n",
        "        model.add(Activation(\"relu\"))\n",
        "        model.add(BatchNormalization())\n",
        "        model.add(Dropout(0.5))                 # increasing probability to 50%\n",
        "\n",
        "        model.add(Dense(classes))\n",
        "        model.add(Activation(\"softmax\"))\n",
        "\n",
        "        return model"
      ],
      "execution_count": 0,
      "outputs": []
    },
    {
      "cell_type": "code",
      "metadata": {
        "id": "hFW_NmixVbw9",
        "colab_type": "code",
        "colab": {}
      },
      "source": [
        "# will store weights during training process\n",
        "#ap = argparse.ArgumentParser()\n",
        "#ap.add_argument(\"-w\", \"--weights\", required=True, help=\"path to weights directory\")\n",
        "#args = vars(ap.parse_args())"
      ],
      "execution_count": 0,
      "outputs": []
    },
    {
      "cell_type": "code",
      "metadata": {
        "id": "2W-_5X8lVoUh",
        "colab_type": "code",
        "colab": {
          "base_uri": "https://localhost:8080/",
          "height": 156
        },
        "outputId": "324029d9-6a7d-41be-d75d-8e09df885f3b"
      },
      "source": [
        "# load dataset - training and testing data, then scale it to [0, 1]\n",
        "print(\"[INFO] loading CIFAR-10 data...\")\n",
        "((trainX, trainY), (testX, testY)) = cifar10.load_data()\n",
        "trainX = trainX.astype(\"float\") / 255.0\n",
        "testX = testX.astype(\"float\") / 255.0\n",
        "\n",
        "# convert labels from integers to vectors\n",
        "labBin = LabelBinarizer()\n",
        "trainY = labBin.fit_transform(trainY)\n",
        "testY = labBin.transform(testY)\n",
        "\n",
        "# initialize optimizer and model\n",
        "print(\"[INFO] compiling model...\")\n",
        "opt = SGD(lr=0.01, decay=0.01/40, momentum=0.9, nesterov=True)\n",
        "model = MiniVGGNet.build(width=32, height=32, depth=3, classes=10)\n",
        "model.compile(loss=\"categorical_crossentropy\", optimizer=opt, metrics=[\"accuracy\"])"
      ],
      "execution_count": 3,
      "outputs": [
        {
          "output_type": "stream",
          "text": [
            "[INFO] loading CIFAR-10 data...\n",
            "Downloading data from https://www.cs.toronto.edu/~kriz/cifar-10-python.tar.gz\n",
            "170500096/170498071 [==============================] - 11s 0us/step\n",
            "[INFO] compiling model...\n",
            "WARNING:tensorflow:From /usr/local/lib/python3.6/dist-packages/tensorflow_core/python/ops/resource_variable_ops.py:1630: calling BaseResourceVariable.__init__ (from tensorflow.python.ops.resource_variable_ops) with constraint is deprecated and will be removed in a future version.\n",
            "Instructions for updating:\n",
            "If using Keras pass *_constraint arguments to layers.\n"
          ],
          "name": "stdout"
        }
      ]
    },
    {
      "cell_type": "code",
      "metadata": {
        "id": "T3yuf5r9HQg8",
        "colab_type": "code",
        "colab": {
          "base_uri": "https://localhost:8080/",
          "height": 34
        },
        "outputId": "bf0fed81-d99c-4ead-e4ab-97e5762d73b7"
      },
      "source": [
        "# Load the Drive helper and mount\n",
        "from google.colab import drive\n",
        "filePath = \"/content/drive\"\n",
        "drive.mount(filePath)"
      ],
      "execution_count": 30,
      "outputs": [
        {
          "output_type": "stream",
          "text": [
            "Drive already mounted at /content/drive; to attempt to forcibly remount, call drive.mount(\"/content/drive\", force_remount=True).\n"
          ],
          "name": "stdout"
        }
      ]
    },
    {
      "cell_type": "code",
      "metadata": {
        "id": "3eoO1e_EHeiP",
        "colab_type": "code",
        "colab": {}
      },
      "source": [
        "model.save_weights('my_model_weights.h5')\n",
        "model.save('my_model.h5')"
      ],
      "execution_count": 0,
      "outputs": []
    },
    {
      "cell_type": "code",
      "metadata": {
        "id": "TvQP2KVSHoTU",
        "colab_type": "code",
        "colab": {}
      },
      "source": [
        "my_callbacks = [\n",
        "    EarlyStopping(patience=4, verbose=1),\n",
        "    ReduceLROnPlateau(factor=0.1, patience=3, min_lr=0.00001, verbose=1),\n",
        "    ModelCheckpoint(filepath = filePath + '_my_model.h5', monitor=\"val_loss\", mode=\"min\", verbose=1, save_best_only=True, save_weights_only=False) \n",
        "    ]"
      ],
      "execution_count": 0,
      "outputs": []
    },
    {
      "cell_type": "code",
      "metadata": {
        "id": "2hAX_Bf5RBC5",
        "colab_type": "code",
        "colab": {}
      },
      "source": [
        "my_callbacks = [ModelCheckpoint(filepath = filePath + '_my_model.h5', monitor=\"val_loss\", mode=\"min\", verbose=1, save_best_only=True, save_weights_only=False)]"
      ],
      "execution_count": 0,
      "outputs": []
    },
    {
      "cell_type": "code",
      "metadata": {
        "id": "PIkDJ-IbVbxD",
        "colab_type": "code",
        "colab": {
          "base_uri": "https://localhost:8080/",
          "height": 1000
        },
        "outputId": "b90c36f3-9800-44f6-f6c4-f736badcdeff"
      },
      "source": [
        "# train network\n",
        "print(\"[INFO] training network...\")\n",
        "H = model.fit(trainX, trainY, validation_data=(testX, testY), batch_size=64, epochs=40, callbacks=my_callbacks, verbose=2)"
      ],
      "execution_count": 36,
      "outputs": [
        {
          "output_type": "stream",
          "text": [
            "[INFO] training network...\n",
            "Train on 50000 samples, validate on 10000 samples\n",
            "Epoch 1/40\n",
            "\n",
            "Epoch 00001: val_loss improved from inf to 0.55238, saving model to /content/drive_my_model.h5\n",
            "50000/50000 - 18s - loss: 0.4369 - acc: 0.8441 - val_loss: 0.5524 - val_acc: 0.8109\n",
            "Epoch 2/40\n",
            "\n",
            "Epoch 00002: val_loss did not improve from 0.55238\n",
            "50000/50000 - 18s - loss: 0.4362 - acc: 0.8449 - val_loss: 0.5525 - val_acc: 0.8112\n",
            "Epoch 3/40\n",
            "\n",
            "Epoch 00003: val_loss did not improve from 0.55238\n",
            "50000/50000 - 18s - loss: 0.4322 - acc: 0.8476 - val_loss: 0.5524 - val_acc: 0.8110\n",
            "Epoch 4/40\n",
            "\n",
            "Epoch 00004: val_loss did not improve from 0.55238\n",
            "50000/50000 - 18s - loss: 0.4303 - acc: 0.8454 - val_loss: 0.5528 - val_acc: 0.8113\n",
            "Epoch 5/40\n",
            "\n",
            "Epoch 00005: val_loss improved from 0.55238 to 0.55164, saving model to /content/drive_my_model.h5\n",
            "50000/50000 - 18s - loss: 0.4328 - acc: 0.8470 - val_loss: 0.5516 - val_acc: 0.8114\n",
            "Epoch 6/40\n",
            "\n",
            "Epoch 00006: val_loss did not improve from 0.55164\n",
            "50000/50000 - 18s - loss: 0.4311 - acc: 0.8456 - val_loss: 0.5522 - val_acc: 0.8108\n",
            "Epoch 7/40\n",
            "\n",
            "Epoch 00007: val_loss did not improve from 0.55164\n",
            "50000/50000 - 18s - loss: 0.4322 - acc: 0.8461 - val_loss: 0.5520 - val_acc: 0.8121\n",
            "Epoch 8/40\n",
            "\n",
            "Epoch 00008: val_loss did not improve from 0.55164\n",
            "50000/50000 - 18s - loss: 0.4367 - acc: 0.8449 - val_loss: 0.5524 - val_acc: 0.8120\n",
            "Epoch 9/40\n",
            "\n",
            "Epoch 00009: val_loss did not improve from 0.55164\n",
            "50000/50000 - 18s - loss: 0.4367 - acc: 0.8456 - val_loss: 0.5532 - val_acc: 0.8105\n",
            "Epoch 10/40\n",
            "\n",
            "Epoch 00010: val_loss improved from 0.55164 to 0.55085, saving model to /content/drive_my_model.h5\n",
            "50000/50000 - 18s - loss: 0.4357 - acc: 0.8469 - val_loss: 0.5508 - val_acc: 0.8119\n",
            "Epoch 11/40\n",
            "\n",
            "Epoch 00011: val_loss did not improve from 0.55085\n",
            "50000/50000 - 18s - loss: 0.4332 - acc: 0.8468 - val_loss: 0.5523 - val_acc: 0.8114\n",
            "Epoch 12/40\n",
            "\n",
            "Epoch 00012: val_loss did not improve from 0.55085\n",
            "50000/50000 - 18s - loss: 0.4298 - acc: 0.8464 - val_loss: 0.5514 - val_acc: 0.8116\n",
            "Epoch 13/40\n",
            "\n",
            "Epoch 00013: val_loss did not improve from 0.55085\n",
            "50000/50000 - 18s - loss: 0.4376 - acc: 0.8465 - val_loss: 0.5520 - val_acc: 0.8114\n",
            "Epoch 14/40\n",
            "\n",
            "Epoch 00014: val_loss did not improve from 0.55085\n",
            "50000/50000 - 18s - loss: 0.4328 - acc: 0.8468 - val_loss: 0.5523 - val_acc: 0.8106\n",
            "Epoch 15/40\n",
            "\n",
            "Epoch 00015: val_loss did not improve from 0.55085\n",
            "50000/50000 - 18s - loss: 0.4292 - acc: 0.8487 - val_loss: 0.5512 - val_acc: 0.8113\n",
            "Epoch 16/40\n",
            "\n",
            "Epoch 00016: val_loss did not improve from 0.55085\n",
            "50000/50000 - 18s - loss: 0.4360 - acc: 0.8446 - val_loss: 0.5525 - val_acc: 0.8111\n",
            "Epoch 17/40\n",
            "\n",
            "Epoch 00017: val_loss improved from 0.55085 to 0.55042, saving model to /content/drive_my_model.h5\n",
            "50000/50000 - 18s - loss: 0.4318 - acc: 0.8471 - val_loss: 0.5504 - val_acc: 0.8119\n",
            "Epoch 18/40\n",
            "\n",
            "Epoch 00018: val_loss did not improve from 0.55042\n",
            "50000/50000 - 18s - loss: 0.4299 - acc: 0.8464 - val_loss: 0.5511 - val_acc: 0.8112\n",
            "Epoch 19/40\n",
            "\n",
            "Epoch 00019: val_loss did not improve from 0.55042\n",
            "50000/50000 - 18s - loss: 0.4288 - acc: 0.8475 - val_loss: 0.5511 - val_acc: 0.8112\n",
            "Epoch 20/40\n",
            "\n",
            "Epoch 00020: val_loss did not improve from 0.55042\n",
            "50000/50000 - 18s - loss: 0.4314 - acc: 0.8468 - val_loss: 0.5508 - val_acc: 0.8111\n",
            "Epoch 21/40\n",
            "\n",
            "Epoch 00021: val_loss did not improve from 0.55042\n",
            "50000/50000 - 18s - loss: 0.4308 - acc: 0.8457 - val_loss: 0.5509 - val_acc: 0.8114\n",
            "Epoch 22/40\n",
            "\n",
            "Epoch 00022: val_loss did not improve from 0.55042\n",
            "50000/50000 - 18s - loss: 0.4384 - acc: 0.8441 - val_loss: 0.5514 - val_acc: 0.8109\n",
            "Epoch 23/40\n",
            "\n",
            "Epoch 00023: val_loss did not improve from 0.55042\n",
            "50000/50000 - 18s - loss: 0.4340 - acc: 0.8458 - val_loss: 0.5509 - val_acc: 0.8112\n",
            "Epoch 24/40\n",
            "\n",
            "Epoch 00024: val_loss did not improve from 0.55042\n",
            "50000/50000 - 18s - loss: 0.4358 - acc: 0.8448 - val_loss: 0.5506 - val_acc: 0.8124\n",
            "Epoch 25/40\n",
            "\n",
            "Epoch 00025: val_loss did not improve from 0.55042\n",
            "50000/50000 - 18s - loss: 0.4317 - acc: 0.8458 - val_loss: 0.5508 - val_acc: 0.8116\n",
            "Epoch 26/40\n",
            "\n",
            "Epoch 00026: val_loss did not improve from 0.55042\n",
            "50000/50000 - 18s - loss: 0.4292 - acc: 0.8480 - val_loss: 0.5506 - val_acc: 0.8108\n",
            "Epoch 27/40\n",
            "\n",
            "Epoch 00027: val_loss did not improve from 0.55042\n",
            "50000/50000 - 18s - loss: 0.4298 - acc: 0.8471 - val_loss: 0.5509 - val_acc: 0.8118\n",
            "Epoch 28/40\n",
            "\n",
            "Epoch 00028: val_loss did not improve from 0.55042\n",
            "50000/50000 - 18s - loss: 0.4288 - acc: 0.8482 - val_loss: 0.5508 - val_acc: 0.8114\n",
            "Epoch 29/40\n",
            "\n",
            "Epoch 00029: val_loss did not improve from 0.55042\n",
            "50000/50000 - 18s - loss: 0.4287 - acc: 0.8479 - val_loss: 0.5512 - val_acc: 0.8111\n",
            "Epoch 30/40\n",
            "\n",
            "Epoch 00030: val_loss did not improve from 0.55042\n",
            "50000/50000 - 18s - loss: 0.4268 - acc: 0.8488 - val_loss: 0.5511 - val_acc: 0.8107\n",
            "Epoch 31/40\n",
            "\n",
            "Epoch 00031: val_loss did not improve from 0.55042\n",
            "50000/50000 - 18s - loss: 0.4276 - acc: 0.8483 - val_loss: 0.5514 - val_acc: 0.8117\n",
            "Epoch 32/40\n",
            "\n",
            "Epoch 00032: val_loss improved from 0.55042 to 0.55023, saving model to /content/drive_my_model.h5\n",
            "50000/50000 - 18s - loss: 0.4331 - acc: 0.8463 - val_loss: 0.5502 - val_acc: 0.8124\n",
            "Epoch 33/40\n",
            "\n",
            "Epoch 00033: val_loss did not improve from 0.55023\n",
            "50000/50000 - 18s - loss: 0.4304 - acc: 0.8477 - val_loss: 0.5512 - val_acc: 0.8119\n",
            "Epoch 34/40\n",
            "\n",
            "Epoch 00034: val_loss improved from 0.55023 to 0.54987, saving model to /content/drive_my_model.h5\n",
            "50000/50000 - 18s - loss: 0.4275 - acc: 0.8478 - val_loss: 0.5499 - val_acc: 0.8123\n",
            "Epoch 35/40\n",
            "\n",
            "Epoch 00035: val_loss did not improve from 0.54987\n",
            "50000/50000 - 18s - loss: 0.4291 - acc: 0.8471 - val_loss: 0.5507 - val_acc: 0.8119\n",
            "Epoch 36/40\n",
            "\n",
            "Epoch 00036: val_loss did not improve from 0.54987\n",
            "50000/50000 - 18s - loss: 0.4283 - acc: 0.8477 - val_loss: 0.5499 - val_acc: 0.8118\n",
            "Epoch 37/40\n",
            "\n",
            "Epoch 00037: val_loss did not improve from 0.54987\n",
            "50000/50000 - 18s - loss: 0.4285 - acc: 0.8478 - val_loss: 0.5505 - val_acc: 0.8118\n",
            "Epoch 38/40\n",
            "\n",
            "Epoch 00038: val_loss did not improve from 0.54987\n",
            "50000/50000 - 18s - loss: 0.4304 - acc: 0.8462 - val_loss: 0.5508 - val_acc: 0.8113\n",
            "Epoch 39/40\n",
            "\n",
            "Epoch 00039: val_loss did not improve from 0.54987\n",
            "50000/50000 - 18s - loss: 0.4306 - acc: 0.8470 - val_loss: 0.5502 - val_acc: 0.8112\n",
            "Epoch 40/40\n",
            "\n",
            "Epoch 00040: val_loss improved from 0.54987 to 0.54962, saving model to /content/drive_my_model.h5\n",
            "50000/50000 - 18s - loss: 0.4296 - acc: 0.8489 - val_loss: 0.5496 - val_acc: 0.8114\n"
          ],
          "name": "stdout"
        }
      ]
    },
    {
      "cell_type": "code",
      "metadata": {
        "id": "LmtSToJGRFNx",
        "colab_type": "code",
        "colab": {}
      },
      "source": [
        ""
      ],
      "execution_count": 0,
      "outputs": []
    }
  ]
}