{
 "cells": [
  {
   "cell_type": "code",
   "execution_count": 1,
   "metadata": {
    "pycharm": {
     "is_executing": false
    }
   },
   "outputs": [],
   "source": [
    "import numpy as np  # for numerical processes\n",
    "import cv2          # for importing images"
   ]
  },
  {
   "cell_type": "code",
   "execution_count": 2,
   "metadata": {},
   "outputs": [],
   "source": [
    "labels = [\"dog\", \"cat\", \"panda\"]\n",
    "np.random.seed(1)"
   ]
  },
  {
   "cell_type": "code",
   "execution_count": 3,
   "metadata": {},
   "outputs": [],
   "source": [
    "# randomly initialize weight matrix and bias vector\n",
    "# in a *real* training and classification task, \n",
    "# these parameters would be *learned* by our model, but for this example use random values\n",
    "\n",
    "W = np.random.randn(3, 3072) # random values from a normal distribution, with zero mean and unit variance\n",
    "b = np.random.randn(3)"
   ]
  },
  {
   "cell_type": "code",
   "execution_count": 4,
   "metadata": {},
   "outputs": [],
   "source": [
    "# load example image, resize it, flatten it into \"feature vector\" representation\n",
    "\n",
    "orig = cv2.imread(\"beagle.png\")\n",
    "image = cv2.resize(orig, (32, 32)).flatten()"
   ]
  },
  {
   "cell_type": "markdown",
   "metadata": {},
   "source": [
    "#### scoring function"
   ]
  },
  {
   "cell_type": "code",
   "execution_count": 5,
   "metadata": {},
   "outputs": [],
   "source": [
    "# compute output scores by taking the dot product between the weight matrix and image pixels\n",
    "# followed by adding in the bias\n",
    "\n",
    "scores = W.dot(image) + b"
   ]
  },
  {
   "cell_type": "code",
   "execution_count": 6,
   "metadata": {},
   "outputs": [
    {
     "name": "stdout",
     "output_type": "stream",
     "text": [
      "[INFO] dog: 7963.93\n",
      "[INFO] cat: -2930.99\n",
      "[INFO] panda: 3362.47\n"
     ]
    },
    {
     "data": {
      "text/plain": [
       "115"
      ]
     },
     "execution_count": 6,
     "metadata": {},
     "output_type": "execute_result"
    }
   ],
   "source": [
    "# loop over the scores + labels and display them\n",
    "\n",
    "for (label, score) in zip(labels, scores):\n",
    "    print(\"[INFO] {}: {:.2f}\".format(label, score))\n",
    "    \n",
    "\n",
    "# draw the label with the highest score on the image as our prediction\n",
    "cv2.putText(orig, \"Label: {}\".format(labels[np.argmax(scores)]), (10, 30), cv2.FONT_HERSHEY_SIMPLEX, 0.9, (0, 255, 0), 2)\n",
    "\n",
    "# display input image\n",
    "cv2.imshow(\"Image\", orig)\n",
    "cv2.waitKey(0)"
   ]
  },
  {
   "cell_type": "code",
   "execution_count": null,
   "metadata": {},
   "outputs": [],
   "source": []
  }
 ],
 "metadata": {
  "kernelspec": {
   "display_name": "Python 3",
   "language": "python",
   "name": "python3"
  },
  "language_info": {
   "codemirror_mode": {
    "name": "ipython",
    "version": 3
   },
   "file_extension": ".py",
   "mimetype": "text/x-python",
   "name": "python",
   "nbconvert_exporter": "python",
   "pygments_lexer": "ipython3",
   "version": "3.7.4"
  }
 },
 "nbformat": 4,
 "nbformat_minor": 1
}
