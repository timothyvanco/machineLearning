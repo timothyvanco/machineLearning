{
  "nbformat": 4,
  "nbformat_minor": 0,
  "metadata": {
    "kernelspec": {
      "name": "python3",
      "display_name": "Python 3"
    },
    "language_info": {
      "codemirror_mode": {
        "name": "ipython",
        "version": 3
      },
      "file_extension": ".py",
      "mimetype": "text/x-python",
      "name": "python",
      "nbconvert_exporter": "python",
      "pygments_lexer": "ipython3",
      "version": "3.7.4"
    },
    "colab": {
      "name": "lenet_mnist.ipynb",
      "provenance": [],
      "include_colab_link": true
    },
    "accelerator": "GPU"
  },
  "cells": [
    {
      "cell_type": "markdown",
      "metadata": {
        "id": "view-in-github",
        "colab_type": "text"
      },
      "source": [
        "<a href=\"https://colab.research.google.com/github/timothyvanco/machineLearning/blob/master/ML_Learning/Lenet_MNIST_Colab/lenet_mnist.ipynb\" target=\"_parent\"><img src=\"https://colab.research.google.com/assets/colab-badge.svg\" alt=\"Open In Colab\"/></a>"
      ]
    },
    {
      "cell_type": "markdown",
      "metadata": {
        "collapsed": true,
        "pycharm": {
          "is_executing": true
        },
        "id": "MT8ZZ90yIAvO",
        "colab_type": "text"
      },
      "source": [
        "### LENET\n"
      ]
    },
    {
      "cell_type": "markdown",
      "metadata": {
        "id": "1TTE8JUXIAvT",
        "colab_type": "text"
      },
      "source": [
        "#### INPUT => CONV => TANH => POOL => CONV => TANH => POOL => FC => TANH => FC"
      ]
    },
    {
      "cell_type": "code",
      "metadata": {
        "id": "XWu8ZillIAvX",
        "colab_type": "code",
        "outputId": "7d0fab04-9c53-456a-dc52-3f90d26d6407",
        "colab": {
          "base_uri": "https://localhost:8080/",
          "height": 63
        }
      },
      "source": [
        "from tensorflow.keras.models import Sequential\n",
        "from tensorflow.keras.layers import Conv2D\n",
        "from tensorflow.keras.layers import MaxPooling2D\n",
        "from tensorflow.keras.layers import Activation\n",
        "from tensorflow.keras.layers import Flatten\n",
        "from tensorflow.keras.layers import Dense\n",
        "from tensorflow.keras import backend as K\n",
        "\n",
        "from tensorflow.keras.optimizers import Adagrad\n",
        "from tensorflow.keras.optimizers import Adam\n",
        "from tensorflow.keras.optimizers import SGD\n",
        "from tensorflow.keras.datasets import mnist\n",
        "\n",
        "from sklearn.preprocessing import LabelBinarizer\n",
        "from sklearn.metrics import classification_report\n",
        "\n",
        "import matplotlib.pyplot as plt\n",
        "import numpy as np"
      ],
      "execution_count": 1,
      "outputs": [
        {
          "output_type": "display_data",
          "data": {
            "text/html": [
              "<p style=\"color: red;\">\n",
              "The default version of TensorFlow in Colab will soon switch to TensorFlow 2.x.<br>\n",
              "We recommend you <a href=\"https://www.tensorflow.org/guide/migrate\" target=\"_blank\">upgrade</a> now \n",
              "or ensure your notebook will continue to use TensorFlow 1.x via the <code>%tensorflow_version 1.x</code> magic:\n",
              "<a href=\"https://colab.research.google.com/notebooks/tensorflow_version.ipynb\" target=\"_blank\">more info</a>.</p>\n"
            ],
            "text/plain": [
              "<IPython.core.display.HTML object>"
            ]
          },
          "metadata": {
            "tags": []
          }
        }
      ]
    },
    {
      "cell_type": "code",
      "metadata": {
        "id": "pBMAWj8_IAvh",
        "colab_type": "code",
        "colab": {}
      },
      "source": [
        "class LeNet:\n",
        "    @staticmethod\n",
        "    def build(width, height, depth, classes):\n",
        "        model = Sequential()\n",
        "        inputShape = (height, width, depth)\n",
        "\n",
        "        # if using \"channels first\", update input shape\n",
        "        if K.image_data_format() == \"channel_first\":\n",
        "            inputShape = (depth, height, width)\n",
        "\n",
        "        # first set of CONV => RELU => POOL layers\n",
        "        model.add(Conv2D(20, (5, 5), padding=\"same\", input_shape=inputShape)) # 20 filters, each of size 5x5\n",
        "        model.add(Activation(\"relu\"))                                         # ReLU activation function\n",
        "        model.add(MaxPooling2D(pool_size=(2, 2), strides=(2, 2)))             # 2x2 pooling with 2x2 stride - decreasing input volume size by 75%\n",
        "\n",
        "        # second set of CONV => RELU => POOL layers\n",
        "        model.add(Conv2D(50, (5, 5), padding=\"same\"))\n",
        "        model.add(Activation(\"relu\"))\n",
        "        model.add(MaxPooling2D(pool_size=(2, 2), strides=(2, 2)))\n",
        "\n",
        "        model.add(Flatten())        # input volume is flattened\n",
        "        model.add(Dense(500))       # fully-connected layer with 500 nodes\n",
        "        model.add(Activation(\"relu\"))\n",
        "\n",
        "        model.add(Dense(classes))\n",
        "        model.add(Activation(\"softmax\"))\n",
        "\n",
        "        # return constructed network architecture\n",
        "        return model"
      ],
      "execution_count": 0,
      "outputs": []
    },
    {
      "cell_type": "code",
      "metadata": {
        "id": "5_5-Qko9IAvs",
        "colab_type": "code",
        "outputId": "fd461684-299d-4886-8171-4d9af1e314d3",
        "colab": {
          "base_uri": "https://localhost:8080/",
          "height": 1000
        }
      },
      "source": [
        "# grab the MNIST dataset\n",
        "print(\"[INFO] accessing MNIST...\")\n",
        "((trainData, trainLabels), (testData, testLabels)) = mnist.load_data()\n",
        "\n",
        "# if using \"channels first\" ordering, then reshape the design matrix such that the matrix is:\n",
        "# num_samples x depth x rows x columns\n",
        "if K.image_data_format() == \"channels_first\":\n",
        "\ttrainData = trainData.reshape((trainData.shape[0], 1, 28, 28))\n",
        "\ttestData = testData.reshape((testData.shape[0], 1, 28, 28))\n",
        "\n",
        "# otherwise, using \"channels last\" ordering, so the design\n",
        "# matrix shape should be: num_samples x rows x columns x depth\n",
        "else:\n",
        "\ttrainData = trainData.reshape((trainData.shape[0], 28, 28, 1))\n",
        "\ttestData = testData.reshape((testData.shape[0], 28, 28, 1))\n",
        "\n",
        "# scale data to the range of [0, 1]\n",
        "trainData = trainData.astype(\"float32\") / 255.0\n",
        "testData = testData.astype(\"float32\") / 255.0\n",
        "\n",
        "# convert the labels from integers to vectors\n",
        "le = LabelBinarizer()\n",
        "trainLabels = le.fit_transform(trainLabels)\n",
        "testLabels = le.transform(testLabels)\n",
        "\n",
        "# initialize the optimizer and model\n",
        "print(\"[INFO] compiling model...\")\n",
        "opt = SGD(lr=0.01)\n",
        "model = LeNet.build(width=28, height=28, depth=1, classes=10)\n",
        "model.compile(loss=\"categorical_crossentropy\", optimizer=opt,\n",
        "\tmetrics=[\"accuracy\"])\n",
        "\n",
        "# train the network\n",
        "print(\"[INFO] training network...\")\n",
        "H = model.fit(trainData, trainLabels,\n",
        "\tvalidation_data=(testData, testLabels), batch_size=128,\n",
        "\tepochs=20, verbose=1)\n",
        "\n",
        "# evaluate the network\n",
        "print(\"[INFO] evaluating network...\")\n",
        "predictions = model.predict(testData, batch_size=128)\n",
        "print(classification_report(testLabels.argmax(axis=1),\n",
        "\tpredictions.argmax(axis=1),\n",
        "\ttarget_names=[str(x) for x in le.classes_]))"
      ],
      "execution_count": 3,
      "outputs": [
        {
          "output_type": "stream",
          "text": [
            "[INFO] accessing MNIST...\n",
            "[INFO] compiling model...\n",
            "WARNING:tensorflow:From /usr/local/lib/python3.6/dist-packages/tensorflow_core/python/ops/resource_variable_ops.py:1630: calling BaseResourceVariable.__init__ (from tensorflow.python.ops.resource_variable_ops) with constraint is deprecated and will be removed in a future version.\n",
            "Instructions for updating:\n",
            "If using Keras pass *_constraint arguments to layers.\n",
            "[INFO] training network...\n",
            "Train on 60000 samples, validate on 10000 samples\n",
            "Epoch 1/20\n",
            "60000/60000 [==============================] - 7s 110us/sample - loss: 0.9334 - acc: 0.7515 - val_loss: 0.3019 - val_acc: 0.9104\n",
            "Epoch 2/20\n",
            "60000/60000 [==============================] - 5s 86us/sample - loss: 0.2582 - acc: 0.9222 - val_loss: 0.1926 - val_acc: 0.9444\n",
            "Epoch 3/20\n",
            "60000/60000 [==============================] - 5s 87us/sample - loss: 0.1849 - acc: 0.9443 - val_loss: 0.1579 - val_acc: 0.9553\n",
            "Epoch 4/20\n",
            "60000/60000 [==============================] - 5s 89us/sample - loss: 0.1434 - acc: 0.9581 - val_loss: 0.1168 - val_acc: 0.9643\n",
            "Epoch 5/20\n",
            "60000/60000 [==============================] - 5s 89us/sample - loss: 0.1197 - acc: 0.9650 - val_loss: 0.1049 - val_acc: 0.9688\n",
            "Epoch 6/20\n",
            "60000/60000 [==============================] - 5s 88us/sample - loss: 0.1024 - acc: 0.9696 - val_loss: 0.0879 - val_acc: 0.9726\n",
            "Epoch 7/20\n",
            "60000/60000 [==============================] - 5s 87us/sample - loss: 0.0903 - acc: 0.9730 - val_loss: 0.0834 - val_acc: 0.9748\n",
            "Epoch 8/20\n",
            "60000/60000 [==============================] - 5s 88us/sample - loss: 0.0808 - acc: 0.9757 - val_loss: 0.0737 - val_acc: 0.9773\n",
            "Epoch 9/20\n",
            "60000/60000 [==============================] - 5s 87us/sample - loss: 0.0733 - acc: 0.9782 - val_loss: 0.0654 - val_acc: 0.9799\n",
            "Epoch 10/20\n",
            "60000/60000 [==============================] - 5s 87us/sample - loss: 0.0679 - acc: 0.9797 - val_loss: 0.0647 - val_acc: 0.9816\n",
            "Epoch 11/20\n",
            "60000/60000 [==============================] - 5s 88us/sample - loss: 0.0629 - acc: 0.9814 - val_loss: 0.0557 - val_acc: 0.9821\n",
            "Epoch 12/20\n",
            "60000/60000 [==============================] - 5s 86us/sample - loss: 0.0591 - acc: 0.9825 - val_loss: 0.0533 - val_acc: 0.9828\n",
            "Epoch 13/20\n",
            "60000/60000 [==============================] - 5s 88us/sample - loss: 0.0550 - acc: 0.9835 - val_loss: 0.0528 - val_acc: 0.9819\n",
            "Epoch 14/20\n",
            "60000/60000 [==============================] - 5s 88us/sample - loss: 0.0521 - acc: 0.9843 - val_loss: 0.0496 - val_acc: 0.9841\n",
            "Epoch 15/20\n",
            "60000/60000 [==============================] - 5s 87us/sample - loss: 0.0492 - acc: 0.9853 - val_loss: 0.0524 - val_acc: 0.9832\n",
            "Epoch 16/20\n",
            "60000/60000 [==============================] - 5s 87us/sample - loss: 0.0463 - acc: 0.9865 - val_loss: 0.0471 - val_acc: 0.9841\n",
            "Epoch 17/20\n",
            "60000/60000 [==============================] - 5s 87us/sample - loss: 0.0438 - acc: 0.9872 - val_loss: 0.0461 - val_acc: 0.9849\n",
            "Epoch 18/20\n",
            "60000/60000 [==============================] - 5s 87us/sample - loss: 0.0418 - acc: 0.9880 - val_loss: 0.0437 - val_acc: 0.9859\n",
            "Epoch 19/20\n",
            "60000/60000 [==============================] - 5s 87us/sample - loss: 0.0401 - acc: 0.9883 - val_loss: 0.0417 - val_acc: 0.9870\n",
            "Epoch 20/20\n",
            "60000/60000 [==============================] - 5s 87us/sample - loss: 0.0384 - acc: 0.9889 - val_loss: 0.0456 - val_acc: 0.9846\n",
            "[INFO] evaluating network...\n",
            "              precision    recall  f1-score   support\n",
            "\n",
            "           0       0.98      0.99      0.99       980\n",
            "           1       0.99      0.99      0.99      1135\n",
            "           2       0.99      0.98      0.98      1032\n",
            "           3       0.99      0.99      0.99      1010\n",
            "           4       0.99      0.99      0.99       982\n",
            "           5       0.98      0.98      0.98       892\n",
            "           6       1.00      0.98      0.99       958\n",
            "           7       0.99      0.98      0.98      1028\n",
            "           8       0.96      0.99      0.97       974\n",
            "           9       0.98      0.98      0.98      1009\n",
            "\n",
            "    accuracy                           0.98     10000\n",
            "   macro avg       0.98      0.98      0.98     10000\n",
            "weighted avg       0.98      0.98      0.98     10000\n",
            "\n"
          ],
          "name": "stdout"
        }
      ]
    },
    {
      "cell_type": "code",
      "metadata": {
        "id": "S1IdAdBhOM3F",
        "colab_type": "code",
        "colab": {
          "base_uri": "https://localhost:8080/",
          "height": 34
        },
        "outputId": "58b26e8f-878b-4c06-c88b-7942b153fc37"
      },
      "source": [
        "# save model\n",
        "print(\"[INFO] saving model as 'model_LeNET_MNIST.h5'...\")\n",
        "model.save(\"model_LeNET_MNIST.h5\")"
      ],
      "execution_count": 7,
      "outputs": [
        {
          "output_type": "stream",
          "text": [
            "[INFO] saving model as 'model_LeNET_MNIST.h5'...\n"
          ],
          "name": "stdout"
        }
      ]
    },
    {
      "cell_type": "code",
      "metadata": {
        "id": "bPWyknLkNcLQ",
        "colab_type": "code",
        "colab": {
          "base_uri": "https://localhost:8080/",
          "height": 299
        },
        "outputId": "16fcbaeb-1b7b-427b-c02d-9c483756dbce"
      },
      "source": [
        "# plot the training loss and accuracy\n",
        "plt.style.use(\"ggplot\")\n",
        "plt.figure()\n",
        "plt.plot(np.arange(0, 20), H.history[\"loss\"], label=\"train_loss\")\n",
        "plt.plot(np.arange(0, 20), H.history[\"val_loss\"], label=\"val_loss\")\n",
        "plt.plot(np.arange(0, 20), H.history[\"acc\"], label=\"train_acc\")\n",
        "plt.plot(np.arange(0, 20), H.history[\"val_acc\"], label=\"val_acc\")\n",
        "plt.title(\"Training Loss and Accuracy\")\n",
        "plt.xlabel(\"Epoch #\")\n",
        "plt.ylabel(\"Loss/Accuracy\")\n",
        "plt.legend()\n",
        "plt.show()"
      ],
      "execution_count": 8,
      "outputs": [
        {
          "output_type": "display_data",
          "data": {
            "image/png": "[encoded data removed]",
            "text/plain": [
              "<Figure size 432x288 with 1 Axes>"
            ]
          },
          "metadata": {
            "tags": []
          }
        }
      ]
    },
    {
      "cell_type": "code",
      "metadata": {
        "id": "5Dp7-ouTOGt4",
        "colab_type": "code",
        "colab": {}
      },
      "source": [
        ""
      ],
      "execution_count": 0,
      "outputs": []
    }
  ]
}