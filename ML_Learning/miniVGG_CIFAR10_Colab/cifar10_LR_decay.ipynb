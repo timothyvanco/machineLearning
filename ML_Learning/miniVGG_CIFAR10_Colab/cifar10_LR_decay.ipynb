{
  "nbformat": 4,
  "nbformat_minor": 0,
  "metadata": {
    "kernelspec": {
      "name": "python3",
      "display_name": "Python 3"
    },
    "language_info": {
      "codemirror_mode": {
        "name": "ipython",
        "version": 3
      },
      "file_extension": ".py",
      "mimetype": "text/x-python",
      "name": "python",
      "nbconvert_exporter": "python",
      "pygments_lexer": "ipython3",
      "version": "3.7.4"
    },
    "colab": {
      "name": "cifar10_LR_decay.ipynb",
      "provenance": [],
      "include_colab_link": true
    },
    "accelerator": "GPU"
  },
  "cells": [
    {
      "cell_type": "markdown",
      "metadata": {
        "id": "view-in-github",
        "colab_type": "text"
      },
      "source": [
        "<a href=\"https://colab.research.google.com/github/timothyvanco/machineLearning/blob/master/ML_Learning/miniVGG_CIFAR10_Colab/cifar10_LR_decay.ipynb\" target=\"_parent\"><img src=\"https://colab.research.google.com/assets/colab-badge.svg\" alt=\"Open In Colab\"/></a>"
      ]
    },
    {
      "cell_type": "code",
      "metadata": {
        "id": "KTr2ollbnMdj",
        "colab_type": "code",
        "colab": {
          "base_uri": "https://localhost:8080/",
          "height": 63
        },
        "outputId": "ef3c3b1f-e106-4b12-961b-2e0f97c3dd79"
      },
      "source": [
        "# set the matplotlib backend so figures can be saved in the background\n",
        "#import matplotlib\n",
        "#matplotlib.use(\"Agg\")\n",
        "\n",
        "from tensorflow.keras.models import Sequential\n",
        "from tensorflow.keras.layers import BatchNormalization\n",
        "from tensorflow.keras.layers import Conv2D\n",
        "from tensorflow.keras.layers import MaxPooling2D\n",
        "from tensorflow.keras.layers import Activation\n",
        "from tensorflow.keras.layers import Flatten\n",
        "from tensorflow.keras.layers import Dropout\n",
        "from tensorflow.keras.layers import Dense\n",
        "from tensorflow.keras import backend as K\n",
        "\n",
        "from sklearn.preprocessing import LabelBinarizer\n",
        "from sklearn.metrics import classification_report\n",
        "from tensorflow.keras.callbacks import LearningRateScheduler\n",
        "from tensorflow.keras.optimizers import SGD\n",
        "from tensorflow.keras.datasets import cifar10\n",
        "import matplotlib.pyplot as plt\n",
        "import numpy as np\n",
        "import argparse"
      ],
      "execution_count": 1,
      "outputs": [
        {
          "output_type": "display_data",
          "data": {
            "text/html": [
              "<p style=\"color: red;\">\n",
              "The default version of TensorFlow in Colab will soon switch to TensorFlow 2.x.<br>\n",
              "We recommend you <a href=\"https://www.tensorflow.org/guide/migrate\" target=\"_blank\">upgrade</a> now \n",
              "or ensure your notebook will continue to use TensorFlow 1.x via the <code>%tensorflow_version 1.x</code> magic:\n",
              "<a href=\"https://colab.research.google.com/notebooks/tensorflow_version.ipynb\" target=\"_blank\">more info</a>.</p>\n"
            ],
            "text/plain": [
              "<IPython.core.display.HTML object>"
            ]
          },
          "metadata": {
            "tags": []
          }
        }
      ]
    },
    {
      "cell_type": "code",
      "metadata": {
        "id": "ZcKWYz_LnMdv",
        "colab_type": "code",
        "colab": {}
      },
      "source": [
        "class MiniVGGNet:\n",
        "    @staticmethod\n",
        "    def build(width, height, depth, classes):\n",
        "        # initialize model along with input shape to be \"channeôs last\"\n",
        "        model = Sequential()\n",
        "        inputShape = (height, width, depth)\n",
        "        channelDimension = -1                           # -1 = last ordering\n",
        "\n",
        "        # if \"channels first\" update input shape and channels dimension\n",
        "        if K.image_data_format() == \"channels_first\":\n",
        "            inputShape = (depth, height, width)\n",
        "            channelDimension = 1                        # batch normalization operatesover channels - in order to apply\n",
        "                                                        # BN need to know which axis to normalize over, 1 = first order\n",
        "\n",
        "\n",
        "        # first layer - (CONV => RELU => BN) * 2 => POOL => DO\n",
        "        model.add(Conv2D(32, (3, 3), padding=\"same\", input_shape = inputShape))\n",
        "        model.add(Activation(\"relu\"))\n",
        "        model.add(BatchNormalization(axis=channelDimension))\n",
        "\n",
        "        model.add(Conv2D(32, (3, 3), padding=\"same\", input_shape = inputShape))\n",
        "        model.add(Activation(\"relu\"))\n",
        "        model.add(BatchNormalization(axis=channelDimension))\n",
        "\n",
        "        model.add(MaxPooling2D(pool_size=(2, 2)))\n",
        "        model.add(Dropout(0.25))    # node from POOL layer will be randomly disconnected from next layer with prob 25%\n",
        "\n",
        "        # second layer - (CONV => RELU => BN) * 2 => POOL => DO\n",
        "        model.add(Conv2D(64, (3, 3), padding=\"same\"))\n",
        "        model.add(Activation(\"relu\"))\n",
        "        model.add(BatchNormalization(axis=channelDimension))\n",
        "\n",
        "        model.add(Conv2D(64, (3, 3), padding=\"same\"))\n",
        "        model.add(Activation(\"relu\"))\n",
        "        model.add(BatchNormalization(axis=channelDimension))\n",
        "\n",
        "        model.add(MaxPooling2D(pool_size=(2, 2)))\n",
        "        model.add(Dropout(0.25))\n",
        "\n",
        "\n",
        "        # FC => RELU layers\n",
        "        model.add(Flatten())\n",
        "        model.add(Dense(512))                   # 512 nodes\n",
        "        model.add(Activation(\"relu\"))\n",
        "        model.add(BatchNormalization())\n",
        "        model.add(Dropout(0.5))                 # increasing probability to 50%\n",
        "\n",
        "        model.add(Dense(classes))\n",
        "        model.add(Activation(\"softmax\"))\n",
        "\n",
        "        return model"
      ],
      "execution_count": 0,
      "outputs": []
    },
    {
      "cell_type": "code",
      "metadata": {
        "id": "ONCSmOs9nMd4",
        "colab_type": "code",
        "colab": {}
      },
      "source": [
        "def step_decay(epoch):\n",
        "    # initialize the base initial learning rate, drop factor, epoch to drop every\n",
        "    initAlpha = 0.01\n",
        "    factor = 0.25\n",
        "    dropEvery = 5\n",
        "    \n",
        "    # compute learning rate for the current epoch\n",
        "    alpha = initAlpha * (factor ** np.floor((1 + epoch) / dropEvery))\n",
        "    \n",
        "    return float(alpha)"
      ],
      "execution_count": 0,
      "outputs": []
    },
    {
      "cell_type": "code",
      "metadata": {
        "id": "7R0SAUiXnMd_",
        "colab_type": "code",
        "colab": {}
      },
      "source": [
        "#ap = argparse.ArgumentParser()\n",
        "#ap.add_argument(\"-o\", \"--output\", required=True, help=\"path to the output loss/accuracy plot\")\n",
        "#args = vars(ap.parse_args())"
      ],
      "execution_count": 0,
      "outputs": []
    },
    {
      "cell_type": "code",
      "metadata": {
        "id": "7kdfNfTynMeI",
        "colab_type": "code",
        "colab": {
          "base_uri": "https://localhost:8080/",
          "height": 105
        },
        "outputId": "25694792-5a45-4b6d-c2eb-1fe3428f8837"
      },
      "source": [
        "# load training and testing data, scale it into range [0,  1]\n",
        "print(\"[INFO] loading CIFAR-10 data...\")\n",
        "((trainX, trainY), (testX, testY)) = cifar10.load_data()\n",
        "trainX = trainX.astype(\"float\") / 255.0\n",
        "testX = testX.astype(\"float\") / 255.0\n",
        "\n",
        "lb = LabelBinarizer()\n",
        "trainY = lb.fit_transform(trainY)\n",
        "testY = lb.transform(testY)\n",
        "\n",
        "labelNames = [\"airplane\", \"automobile\", \"bird\", \"cat\", \"deer\", \"dog\", \"frog\", \"horse\", \"ship\", \"truck\"]\n",
        "callbacks = [LearningRateScheduler(step_decay)]\n",
        "\n",
        "opt = SGD(lr=0.01, momentum=0.9, nesterov=True)\n",
        "model = MiniVGGNet.build(width=32, height=32, depth=3, classes=10)\n",
        "model.compile(loss=\"categorical_crossentropy\", optimizer=opt, metrics=[\"accuracy\"])"
      ],
      "execution_count": 5,
      "outputs": [
        {
          "output_type": "stream",
          "text": [
            "[INFO] loading CIFAR-10 data...\n",
            "WARNING:tensorflow:From /usr/local/lib/python3.6/dist-packages/tensorflow_core/python/ops/resource_variable_ops.py:1630: calling BaseResourceVariable.__init__ (from tensorflow.python.ops.resource_variable_ops) with constraint is deprecated and will be removed in a future version.\n",
            "Instructions for updating:\n",
            "If using Keras pass *_constraint arguments to layers.\n"
          ],
          "name": "stdout"
        }
      ]
    },
    {
      "cell_type": "code",
      "metadata": {
        "id": "IQGlf-nVnkaf",
        "colab_type": "code",
        "colab": {
          "base_uri": "https://localhost:8080/",
          "height": 1000
        },
        "outputId": "f02258b6-6c91-4a2b-c983-04068dc81e38"
      },
      "source": [
        "# train the network\n",
        "H = model.fit(trainX, trainY, validation_data=(testX, testY), batch_size=64, epochs=40, callbacks=callbacks, verbose=1)"
      ],
      "execution_count": 6,
      "outputs": [
        {
          "output_type": "stream",
          "text": [
            "Train on 50000 samples, validate on 10000 samples\n",
            "Epoch 1/40\n",
            "50000/50000 [==============================] - 15s 292us/sample - loss: 1.6604 - acc: 0.4469 - val_loss: 1.3650 - val_acc: 0.5117\n",
            "Epoch 2/40\n",
            "50000/50000 [==============================] - 13s 253us/sample - loss: 1.1815 - acc: 0.5925 - val_loss: 1.0094 - val_acc: 0.6516\n",
            "Epoch 3/40\n",
            "50000/50000 [==============================] - 13s 253us/sample - loss: 0.9956 - acc: 0.6559 - val_loss: 0.8513 - val_acc: 0.7019\n",
            "Epoch 4/40\n",
            "50000/50000 [==============================] - 13s 253us/sample - loss: 0.8795 - acc: 0.6956 - val_loss: 0.7639 - val_acc: 0.7296\n",
            "Epoch 5/40\n",
            "50000/50000 [==============================] - 13s 253us/sample - loss: 0.7310 - acc: 0.7437 - val_loss: 0.6636 - val_acc: 0.7689\n",
            "Epoch 6/40\n",
            "50000/50000 [==============================] - 13s 253us/sample - loss: 0.6807 - acc: 0.7597 - val_loss: 0.6789 - val_acc: 0.7639\n",
            "Epoch 7/40\n",
            "50000/50000 [==============================] - 13s 252us/sample - loss: 0.6529 - acc: 0.7703 - val_loss: 0.6305 - val_acc: 0.7815\n",
            "Epoch 8/40\n",
            "50000/50000 [==============================] - 13s 253us/sample - loss: 0.6246 - acc: 0.7797 - val_loss: 0.6380 - val_acc: 0.7781\n",
            "Epoch 9/40\n",
            "50000/50000 [==============================] - 13s 253us/sample - loss: 0.6116 - acc: 0.7834 - val_loss: 0.6173 - val_acc: 0.7868\n",
            "Epoch 10/40\n",
            "50000/50000 [==============================] - 13s 253us/sample - loss: 0.5765 - acc: 0.7965 - val_loss: 0.6030 - val_acc: 0.7932\n",
            "Epoch 11/40\n",
            "50000/50000 [==============================] - 13s 252us/sample - loss: 0.5619 - acc: 0.8012 - val_loss: 0.6070 - val_acc: 0.7923\n",
            "Epoch 12/40\n",
            "50000/50000 [==============================] - 13s 252us/sample - loss: 0.5562 - acc: 0.8020 - val_loss: 0.6067 - val_acc: 0.7901\n",
            "Epoch 13/40\n",
            "50000/50000 [==============================] - 13s 253us/sample - loss: 0.5547 - acc: 0.8053 - val_loss: 0.5951 - val_acc: 0.7944\n",
            "Epoch 14/40\n",
            "50000/50000 [==============================] - 13s 250us/sample - loss: 0.5466 - acc: 0.8059 - val_loss: 0.5913 - val_acc: 0.7971\n",
            "Epoch 15/40\n",
            "50000/50000 [==============================] - 13s 252us/sample - loss: 0.5402 - acc: 0.8102 - val_loss: 0.5928 - val_acc: 0.7959\n",
            "Epoch 16/40\n",
            "50000/50000 [==============================] - 13s 250us/sample - loss: 0.5362 - acc: 0.8106 - val_loss: 0.5941 - val_acc: 0.7948\n",
            "Epoch 17/40\n",
            "50000/50000 [==============================] - 13s 251us/sample - loss: 0.5308 - acc: 0.8133 - val_loss: 0.5900 - val_acc: 0.7970\n",
            "Epoch 18/40\n",
            "50000/50000 [==============================] - 13s 252us/sample - loss: 0.5352 - acc: 0.8120 - val_loss: 0.5919 - val_acc: 0.7956\n",
            "Epoch 19/40\n",
            "50000/50000 [==============================] - 13s 251us/sample - loss: 0.5299 - acc: 0.8144 - val_loss: 0.5924 - val_acc: 0.7967\n",
            "Epoch 20/40\n",
            "50000/50000 [==============================] - 13s 253us/sample - loss: 0.5292 - acc: 0.8127 - val_loss: 0.5913 - val_acc: 0.7953\n",
            "Epoch 21/40\n",
            "50000/50000 [==============================] - 13s 250us/sample - loss: 0.5281 - acc: 0.8138 - val_loss: 0.5894 - val_acc: 0.7977\n",
            "Epoch 22/40\n",
            "50000/50000 [==============================] - 13s 251us/sample - loss: 0.5289 - acc: 0.8135 - val_loss: 0.5890 - val_acc: 0.7982\n",
            "Epoch 23/40\n",
            "50000/50000 [==============================] - 13s 252us/sample - loss: 0.5285 - acc: 0.8119 - val_loss: 0.5880 - val_acc: 0.7980\n",
            "Epoch 24/40\n",
            "50000/50000 [==============================] - 13s 254us/sample - loss: 0.5320 - acc: 0.8142 - val_loss: 0.5893 - val_acc: 0.7966\n",
            "Epoch 25/40\n",
            "50000/50000 [==============================] - 13s 250us/sample - loss: 0.5263 - acc: 0.8147 - val_loss: 0.5889 - val_acc: 0.7969\n",
            "Epoch 26/40\n",
            "50000/50000 [==============================] - 13s 250us/sample - loss: 0.5243 - acc: 0.8148 - val_loss: 0.5892 - val_acc: 0.7964\n",
            "Epoch 27/40\n",
            "50000/50000 [==============================] - 13s 252us/sample - loss: 0.5268 - acc: 0.8131 - val_loss: 0.5889 - val_acc: 0.7974\n",
            "Epoch 28/40\n",
            "50000/50000 [==============================] - 13s 252us/sample - loss: 0.5283 - acc: 0.8120 - val_loss: 0.5874 - val_acc: 0.7978\n",
            "Epoch 29/40\n",
            "50000/50000 [==============================] - 13s 251us/sample - loss: 0.5258 - acc: 0.8141 - val_loss: 0.5876 - val_acc: 0.7978\n",
            "Epoch 30/40\n",
            "50000/50000 [==============================] - 13s 251us/sample - loss: 0.5246 - acc: 0.8140 - val_loss: 0.5893 - val_acc: 0.7972\n",
            "Epoch 31/40\n",
            "50000/50000 [==============================] - 13s 250us/sample - loss: 0.5235 - acc: 0.8137 - val_loss: 0.5888 - val_acc: 0.7969\n",
            "Epoch 32/40\n",
            "50000/50000 [==============================] - 13s 251us/sample - loss: 0.5211 - acc: 0.8162 - val_loss: 0.5896 - val_acc: 0.7967\n",
            "Epoch 33/40\n",
            "50000/50000 [==============================] - 13s 251us/sample - loss: 0.5231 - acc: 0.8143 - val_loss: 0.5884 - val_acc: 0.7977\n",
            "Epoch 34/40\n",
            "50000/50000 [==============================] - 13s 251us/sample - loss: 0.5227 - acc: 0.8134 - val_loss: 0.5883 - val_acc: 0.7979\n",
            "Epoch 35/40\n",
            "50000/50000 [==============================] - 13s 252us/sample - loss: 0.5246 - acc: 0.8152 - val_loss: 0.5892 - val_acc: 0.7977\n",
            "Epoch 36/40\n",
            "50000/50000 [==============================] - 13s 251us/sample - loss: 0.5262 - acc: 0.8141 - val_loss: 0.5883 - val_acc: 0.7972\n",
            "Epoch 37/40\n",
            "50000/50000 [==============================] - 13s 252us/sample - loss: 0.5281 - acc: 0.8132 - val_loss: 0.5889 - val_acc: 0.7965\n",
            "Epoch 38/40\n",
            "50000/50000 [==============================] - 13s 251us/sample - loss: 0.5243 - acc: 0.8159 - val_loss: 0.5885 - val_acc: 0.7982\n",
            "Epoch 39/40\n",
            "50000/50000 [==============================] - 13s 251us/sample - loss: 0.5287 - acc: 0.8118 - val_loss: 0.5890 - val_acc: 0.7970\n",
            "Epoch 40/40\n",
            "50000/50000 [==============================] - 13s 251us/sample - loss: 0.5276 - acc: 0.8150 - val_loss: 0.5883 - val_acc: 0.7971\n"
          ],
          "name": "stdout"
        }
      ]
    },
    {
      "cell_type": "code",
      "metadata": {
        "id": "lBx5WTxcnMeO",
        "colab_type": "code",
        "colab": {
          "base_uri": "https://localhost:8080/",
          "height": 323
        },
        "outputId": "1f001d1c-6ade-4d92-f89c-0d62493eeacc"
      },
      "source": [
        "print(\"[INFO] evaluating network...\")\n",
        "predictions = model.predict(testX, batch_size=64)\n",
        "print(classification_report(testY.argmax(axis=1), predictions.argmax(axis=1), target_names=labelNames))"
      ],
      "execution_count": 7,
      "outputs": [
        {
          "output_type": "stream",
          "text": [
            "[INFO] evaluating network...\n",
            "              precision    recall  f1-score   support\n",
            "\n",
            "    airplane       0.82      0.80      0.81      1000\n",
            "  automobile       0.90      0.89      0.89      1000\n",
            "        bird       0.73      0.66      0.69      1000\n",
            "         cat       0.65      0.61      0.63      1000\n",
            "        deer       0.75      0.78      0.77      1000\n",
            "         dog       0.70      0.73      0.71      1000\n",
            "        frog       0.79      0.90      0.84      1000\n",
            "       horse       0.86      0.83      0.85      1000\n",
            "        ship       0.89      0.89      0.89      1000\n",
            "       truck       0.86      0.89      0.87      1000\n",
            "\n",
            "    accuracy                           0.80     10000\n",
            "   macro avg       0.80      0.80      0.80     10000\n",
            "weighted avg       0.80      0.80      0.80     10000\n",
            "\n"
          ],
          "name": "stdout"
        }
      ]
    },
    {
      "cell_type": "code",
      "metadata": {
        "id": "kvSG7bV_nMeW",
        "colab_type": "code",
        "colab": {
          "base_uri": "https://localhost:8080/",
          "height": 299
        },
        "outputId": "82496bdc-455c-4c56-8ae3-00b6b1429eee"
      },
      "source": [
        "plt.style.use(\"ggplot\")\n",
        "plt.figure()\n",
        "plt.plot(np.arange(0, 40), H.history[\"loss\"], label=\"train_loss\")\n",
        "plt.plot(np.arange(0, 40), H.history[\"val_loss\"], label=\"val_loss\")\n",
        "plt.plot(np.arange(0, 40), H.history[\"acc\"], label=\"train_acc\")\n",
        "plt.plot(np.arange(0, 40), H.history[\"val_acc\"], label=\"val_acc\")\n",
        "plt.title(\"Training Loss and Accuracy on CIFAR-10\")\n",
        "plt.xlabel(\"Epoch #\")\n",
        "plt.ylabel(\"Loss/Accuracy\")\n",
        "plt.legend()\n",
        "#plt.savefig(args[\"output\"])\n",
        "plt.show()"
      ],
      "execution_count": 8,
      "outputs": [
        {
          "output_type": "display_data",
          "data": {
            "image/png": "[encoded data removed]",
            "text/plain": [
              "<Figure size 432x288 with 1 Axes>"
            ]
          },
          "metadata": {
            "tags": []
          }
        }
      ]
    }
  ]
}