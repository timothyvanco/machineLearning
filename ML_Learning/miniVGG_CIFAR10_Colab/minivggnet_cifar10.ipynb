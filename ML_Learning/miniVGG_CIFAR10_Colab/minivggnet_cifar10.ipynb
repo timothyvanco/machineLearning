{
  "nbformat": 4,
  "nbformat_minor": 0,
  "metadata": {
    "kernelspec": {
      "name": "python3",
      "display_name": "Python 3"
    },
    "language_info": {
      "codemirror_mode": {
        "name": "ipython",
        "version": 3
      },
      "file_extension": ".py",
      "mimetype": "text/x-python",
      "name": "python",
      "nbconvert_exporter": "python",
      "pygments_lexer": "ipython3",
      "version": "3.7.4"
    },
    "colab": {
      "name": "minivggnet_cifar10.ipynb",
      "provenance": [],
      "include_colab_link": true
    },
    "accelerator": "GPU"
  },
  "cells": [
    {
      "cell_type": "markdown",
      "metadata": {
        "id": "view-in-github",
        "colab_type": "text"
      },
      "source": [
        "<a href=\"https://colab.research.google.com/github/timothyvanco/machineLearning/blob/master/ML_Learning/miniVGG_CIFAR10_Colab/minivggnet_cifar10.ipynb\" target=\"_parent\"><img src=\"https://colab.research.google.com/assets/colab-badge.svg\" alt=\"Open In Colab\"/></a>"
      ]
    },
    {
      "cell_type": "code",
      "metadata": {
        "pycharm": {
          "is_executing": false
        },
        "id": "fZYxrEHryJIg",
        "colab_type": "code",
        "colab": {
          "base_uri": "https://localhost:8080/",
          "height": 63
        },
        "outputId": "52e3235e-812a-41b0-d72d-6fcbcd52f2b2"
      },
      "source": [
        "# set the matplotlib backend so figures can be saved in the background\n",
        "#import matplotlib\n",
        "#matplotlib.use(\"Agg\")\n",
        "\n",
        "from tensorflow.keras.models import Sequential\n",
        "from tensorflow.keras.layers import BatchNormalization\n",
        "from tensorflow.keras.layers import Conv2D\n",
        "from tensorflow.keras.layers import MaxPooling2D\n",
        "from tensorflow.keras.layers import Activation\n",
        "from tensorflow.keras.layers import Flatten\n",
        "from tensorflow.keras.layers import Dropout\n",
        "from tensorflow.keras.layers import Dense\n",
        "from tensorflow.keras import backend as K\n",
        "\n",
        "from sklearn.preprocessing import LabelBinarizer\n",
        "from sklearn.metrics import classification_report\n",
        "from tensorflow.keras.optimizers import SGD\n",
        "from tensorflow.keras.datasets import cifar10\n",
        "\n",
        "import matplotlib.pyplot as plt\n",
        "import numpy as np\n",
        "import argparse"
      ],
      "execution_count": 1,
      "outputs": [
        {
          "output_type": "display_data",
          "data": {
            "text/html": [
              "<p style=\"color: red;\">\n",
              "The default version of TensorFlow in Colab will soon switch to TensorFlow 2.x.<br>\n",
              "We recommend you <a href=\"https://www.tensorflow.org/guide/migrate\" target=\"_blank\">upgrade</a> now \n",
              "or ensure your notebook will continue to use TensorFlow 1.x via the <code>%tensorflow_version 1.x</code> magic:\n",
              "<a href=\"https://colab.research.google.com/notebooks/tensorflow_version.ipynb\" target=\"_blank\">more info</a>.</p>\n"
            ],
            "text/plain": [
              "<IPython.core.display.HTML object>"
            ]
          },
          "metadata": {
            "tags": []
          }
        }
      ]
    },
    {
      "cell_type": "code",
      "metadata": {
        "id": "L4kKOxUayJIv",
        "colab_type": "code",
        "colab": {}
      },
      "source": [
        "class MiniVGGNet:\n",
        "    @staticmethod\n",
        "    def build(width, height, depth, classes):\n",
        "        # initialize model along with input shape to be \"channeôs last\"\n",
        "        model = Sequential()\n",
        "        inputShape = (height, width, depth)\n",
        "        channelDimension = -1                           # -1 = last ordering\n",
        "\n",
        "        # if \"channels first\" update input shape and channels dimension\n",
        "        if K.image_data_format() == \"channels_first\":\n",
        "            inputShape = (depth, height, width)\n",
        "            channelDimension = 1                        # batch normalization operatesover channels - in order to apply\n",
        "                                                        # BN need to know which axis to normalize over, 1 = first order\n",
        "\n",
        "\n",
        "        # first layer - (CONV => RELU => BN) * 2 => POOL => DO\n",
        "        model.add(Conv2D(32, (3, 3), padding=\"same\", input_shape = inputShape))\n",
        "        model.add(Activation(\"relu\"))\n",
        "        model.add(BatchNormalization(axis=channelDimension))\n",
        "\n",
        "        model.add(Conv2D(32, (3, 3), padding=\"same\", input_shape = inputShape))\n",
        "        model.add(Activation(\"relu\"))\n",
        "        model.add(BatchNormalization(axis=channelDimension))\n",
        "\n",
        "        model.add(MaxPooling2D(pool_size=(2, 2)))\n",
        "        model.add(Dropout(0.25))    # node from POOL layer will be randomly disconnected from next layer with prob 25%\n",
        "\n",
        "        # second layer - (CONV => RELU => BN) * 2 => POOL => DO\n",
        "        model.add(Conv2D(64, (3, 3), padding=\"same\"))\n",
        "        model.add(Activation(\"relu\"))\n",
        "        model.add(BatchNormalization(axis=channelDimension))\n",
        "\n",
        "        model.add(Conv2D(64, (3, 3), padding=\"same\"))\n",
        "        model.add(Activation(\"relu\"))\n",
        "        model.add(BatchNormalization(axis=channelDimension))\n",
        "\n",
        "        model.add(MaxPooling2D(pool_size=(2, 2)))\n",
        "        model.add(Dropout(0.25))\n",
        "\n",
        "\n",
        "        # FC => RELU layers\n",
        "        model.add(Flatten())\n",
        "        model.add(Dense(512))                   # 512 nodes\n",
        "        model.add(Activation(\"relu\"))\n",
        "        model.add(BatchNormalization())\n",
        "        model.add(Dropout(0.5))                 # increasing probability to 50%\n",
        "\n",
        "        model.add(Dense(classes))\n",
        "        model.add(Activation(\"softmax\"))\n",
        "\n",
        "        return model"
      ],
      "execution_count": 0,
      "outputs": []
    },
    {
      "cell_type": "code",
      "metadata": {
        "id": "AEDzhoZRyJI5",
        "colab_type": "code",
        "colab": {}
      },
      "source": [
        "#ap = argparse.ArgumentParser()\n",
        "#ap.add_argument(\"-o\", \"--output\", required=True, help=\"path to the output loss/accuracy plot\")\n",
        "#args = vars(ap.parse_args())"
      ],
      "execution_count": 0,
      "outputs": []
    },
    {
      "cell_type": "code",
      "metadata": {
        "id": "aOQYBqiCyJJC",
        "colab_type": "code",
        "colab": {
          "base_uri": "https://localhost:8080/",
          "height": 1000
        },
        "outputId": "3d59885f-81cb-4252-c8ec-f5f9b91ade5d"
      },
      "source": [
        "# load training and testing data, then scale it into range [0, 1]\n",
        "print(\"[INFO] loading CIFAR-10 data...\")\n",
        "((trainX, trainY), (testX, testY)) = cifar10.load_data()\n",
        "trainX = trainX.astype(\"float\") / 255.0\n",
        "testX = testX.astype(\"float\") / 255.0\n",
        "\n",
        "# convert labels from integers to vectors\n",
        "lab_bin = LabelBinarizer()\n",
        "trainY = lab_bin.fit_transform(trainY)\n",
        "testY = lab_bin.transform(testY)\n",
        "\n",
        "# initialize label names for CIFAR-10 dataset\n",
        "labelNames = [\"airplane\", \"automobile\", \"bird\", \"cat\", \"deer\", \"dog\", \"frog\", \"horse\", \"ship\", \"truck\"]\n",
        "\n",
        "# initialize optimizer and model\n",
        "print(\"[INFO] compiling model...\")\n",
        "# SGD with learning rate = 0.01, Nestrov accelerated gradient - True\n",
        "# decay - slowly reduce learning rate over time - helpful in reducing overfitting -> higher accuracy, lr/40 - 40 epochs\n",
        "optimizer = SGD(lr=0.01, decay=0.01/40, momentum=0.9, nesterov=True)\n",
        "model = MiniVGGNet.build(width=32, height=32, depth=3, classes=10)\n",
        "model.compile(loss=\"categorical_crossentropy\", optimizer=optimizer, metrics=[\"accuracy\"])\n",
        "\n",
        "# train network\n",
        "print(\"[INFO] training network...\")\n",
        "H = model.fit(trainX, trainY, validation_data=(testX, testY), batch_size=64, epochs=40, verbose=1)"
      ],
      "execution_count": 4,
      "outputs": [
        {
          "output_type": "stream",
          "text": [
            "[INFO] loading CIFAR-10 data...\n",
            "[INFO] compiling model...\n",
            "WARNING:tensorflow:From /usr/local/lib/python3.6/dist-packages/tensorflow_core/python/ops/resource_variable_ops.py:1630: calling BaseResourceVariable.__init__ (from tensorflow.python.ops.resource_variable_ops) with constraint is deprecated and will be removed in a future version.\n",
            "Instructions for updating:\n",
            "If using Keras pass *_constraint arguments to layers.\n",
            "[INFO] training network...\n",
            "Train on 50000 samples, validate on 10000 samples\n",
            "Epoch 1/40\n",
            "50000/50000 [==============================] - 10s 192us/sample - loss: 1.6816 - acc: 0.4395 - val_loss: 1.1888 - val_acc: 0.5809\n",
            "Epoch 2/40\n",
            "50000/50000 [==============================] - 8s 156us/sample - loss: 1.1821 - acc: 0.5877 - val_loss: 1.0965 - val_acc: 0.6194\n",
            "Epoch 3/40\n",
            "50000/50000 [==============================] - 8s 154us/sample - loss: 0.9950 - acc: 0.6524 - val_loss: 0.8266 - val_acc: 0.7039\n",
            "Epoch 4/40\n",
            "50000/50000 [==============================] - 8s 154us/sample - loss: 0.8842 - acc: 0.6904 - val_loss: 0.8369 - val_acc: 0.7086\n",
            "Epoch 5/40\n",
            "50000/50000 [==============================] - 8s 154us/sample - loss: 0.8025 - acc: 0.7162 - val_loss: 0.8394 - val_acc: 0.7118\n",
            "Epoch 6/40\n",
            "50000/50000 [==============================] - 8s 154us/sample - loss: 0.7447 - acc: 0.7379 - val_loss: 0.7308 - val_acc: 0.7461\n",
            "Epoch 7/40\n",
            "50000/50000 [==============================] - 8s 155us/sample - loss: 0.6950 - acc: 0.7556 - val_loss: 0.6702 - val_acc: 0.7668\n",
            "Epoch 8/40\n",
            "50000/50000 [==============================] - 8s 155us/sample - loss: 0.6570 - acc: 0.7694 - val_loss: 0.6506 - val_acc: 0.7738\n",
            "Epoch 9/40\n",
            "50000/50000 [==============================] - 8s 154us/sample - loss: 0.6269 - acc: 0.7808 - val_loss: 0.6451 - val_acc: 0.7763\n",
            "Epoch 10/40\n",
            "50000/50000 [==============================] - 8s 154us/sample - loss: 0.5982 - acc: 0.7899 - val_loss: 0.6237 - val_acc: 0.7862\n",
            "Epoch 11/40\n",
            "50000/50000 [==============================] - 8s 154us/sample - loss: 0.5664 - acc: 0.8005 - val_loss: 0.6165 - val_acc: 0.7887\n",
            "Epoch 12/40\n",
            "50000/50000 [==============================] - 8s 153us/sample - loss: 0.5357 - acc: 0.8085 - val_loss: 0.6094 - val_acc: 0.7927\n",
            "Epoch 13/40\n",
            "50000/50000 [==============================] - 8s 156us/sample - loss: 0.5158 - acc: 0.8177 - val_loss: 0.5925 - val_acc: 0.7998\n",
            "Epoch 14/40\n",
            "50000/50000 [==============================] - 8s 156us/sample - loss: 0.4978 - acc: 0.8235 - val_loss: 0.6136 - val_acc: 0.7910\n",
            "Epoch 15/40\n",
            "50000/50000 [==============================] - 8s 154us/sample - loss: 0.4770 - acc: 0.8304 - val_loss: 0.5852 - val_acc: 0.8023\n",
            "Epoch 16/40\n",
            "50000/50000 [==============================] - 8s 154us/sample - loss: 0.4648 - acc: 0.8353 - val_loss: 0.5943 - val_acc: 0.7994\n",
            "Epoch 17/40\n",
            "50000/50000 [==============================] - 8s 156us/sample - loss: 0.4496 - acc: 0.8391 - val_loss: 0.5968 - val_acc: 0.7980\n",
            "Epoch 18/40\n",
            "50000/50000 [==============================] - 8s 156us/sample - loss: 0.4363 - acc: 0.8462 - val_loss: 0.5881 - val_acc: 0.8011\n",
            "Epoch 19/40\n",
            "50000/50000 [==============================] - 8s 153us/sample - loss: 0.4201 - acc: 0.8514 - val_loss: 0.5795 - val_acc: 0.8035\n",
            "Epoch 20/40\n",
            "50000/50000 [==============================] - 8s 153us/sample - loss: 0.4082 - acc: 0.8530 - val_loss: 0.5883 - val_acc: 0.8035\n",
            "Epoch 21/40\n",
            "50000/50000 [==============================] - 8s 153us/sample - loss: 0.3988 - acc: 0.8576 - val_loss: 0.6033 - val_acc: 0.8016\n",
            "Epoch 22/40\n",
            "50000/50000 [==============================] - 8s 154us/sample - loss: 0.3870 - acc: 0.8610 - val_loss: 0.5665 - val_acc: 0.8120\n",
            "Epoch 23/40\n",
            "50000/50000 [==============================] - 8s 153us/sample - loss: 0.3672 - acc: 0.8691 - val_loss: 0.5663 - val_acc: 0.8111\n",
            "Epoch 24/40\n",
            "50000/50000 [==============================] - 8s 153us/sample - loss: 0.3613 - acc: 0.8712 - val_loss: 0.5756 - val_acc: 0.8134\n",
            "Epoch 25/40\n",
            "50000/50000 [==============================] - 8s 153us/sample - loss: 0.3551 - acc: 0.8723 - val_loss: 0.5646 - val_acc: 0.8139\n",
            "Epoch 26/40\n",
            "50000/50000 [==============================] - 8s 156us/sample - loss: 0.3441 - acc: 0.8762 - val_loss: 0.5760 - val_acc: 0.8124\n",
            "Epoch 27/40\n",
            "50000/50000 [==============================] - 8s 153us/sample - loss: 0.3354 - acc: 0.8802 - val_loss: 0.5665 - val_acc: 0.8149\n",
            "Epoch 28/40\n",
            "50000/50000 [==============================] - 8s 155us/sample - loss: 0.3255 - acc: 0.8839 - val_loss: 0.5612 - val_acc: 0.8161\n",
            "Epoch 29/40\n",
            "50000/50000 [==============================] - 8s 155us/sample - loss: 0.3207 - acc: 0.8840 - val_loss: 0.5703 - val_acc: 0.8136\n",
            "Epoch 30/40\n",
            "50000/50000 [==============================] - 8s 154us/sample - loss: 0.3076 - acc: 0.8896 - val_loss: 0.5633 - val_acc: 0.8187\n",
            "Epoch 31/40\n",
            "50000/50000 [==============================] - 8s 153us/sample - loss: 0.3049 - acc: 0.8903 - val_loss: 0.5620 - val_acc: 0.8157\n",
            "Epoch 32/40\n",
            "50000/50000 [==============================] - 8s 154us/sample - loss: 0.2986 - acc: 0.8923 - val_loss: 0.5538 - val_acc: 0.8236\n",
            "Epoch 33/40\n",
            "50000/50000 [==============================] - 8s 157us/sample - loss: 0.2947 - acc: 0.8951 - val_loss: 0.5697 - val_acc: 0.8176\n",
            "Epoch 34/40\n",
            "50000/50000 [==============================] - 8s 154us/sample - loss: 0.2889 - acc: 0.8980 - val_loss: 0.5583 - val_acc: 0.8215\n",
            "Epoch 35/40\n",
            "50000/50000 [==============================] - 8s 154us/sample - loss: 0.2784 - acc: 0.9014 - val_loss: 0.5622 - val_acc: 0.8207\n",
            "Epoch 36/40\n",
            "50000/50000 [==============================] - 8s 153us/sample - loss: 0.2707 - acc: 0.9040 - val_loss: 0.5629 - val_acc: 0.8221\n",
            "Epoch 37/40\n",
            "50000/50000 [==============================] - 8s 153us/sample - loss: 0.2684 - acc: 0.9052 - val_loss: 0.5603 - val_acc: 0.8206\n",
            "Epoch 38/40\n",
            "50000/50000 [==============================] - 8s 153us/sample - loss: 0.2671 - acc: 0.9038 - val_loss: 0.5571 - val_acc: 0.8227\n",
            "Epoch 39/40\n",
            "50000/50000 [==============================] - 8s 155us/sample - loss: 0.2598 - acc: 0.9056 - val_loss: 0.5763 - val_acc: 0.8195\n",
            "Epoch 40/40\n",
            "50000/50000 [==============================] - 8s 153us/sample - loss: 0.2571 - acc: 0.9073 - val_loss: 0.5703 - val_acc: 0.8218\n"
          ],
          "name": "stdout"
        }
      ]
    },
    {
      "cell_type": "code",
      "metadata": {
        "id": "ySmboxQK8Nde",
        "colab_type": "code",
        "colab": {
          "base_uri": "https://localhost:8080/",
          "height": 323
        },
        "outputId": "6252d2c7-407b-4f2a-90b2-ba1792188a61"
      },
      "source": [
        "# evaluate network\n",
        "print(\"[INFO] evaluating network...\")\n",
        "predictions = model.predict(testX, batch_size=64)\n",
        "print(classification_report(testY.argmax(axis=1), predictions.argmax(axis=1), target_names=labelNames))"
      ],
      "execution_count": 5,
      "outputs": [
        {
          "output_type": "stream",
          "text": [
            "[INFO] evaluating network...\n",
            "              precision    recall  f1-score   support\n",
            "\n",
            "    airplane       0.86      0.82      0.84      1000\n",
            "  automobile       0.93      0.90      0.91      1000\n",
            "        bird       0.76      0.71      0.73      1000\n",
            "         cat       0.70      0.66      0.68      1000\n",
            "        deer       0.77      0.80      0.79      1000\n",
            "         dog       0.72      0.77      0.74      1000\n",
            "        frog       0.82      0.91      0.86      1000\n",
            "       horse       0.90      0.84      0.87      1000\n",
            "        ship       0.89      0.91      0.90      1000\n",
            "       truck       0.88      0.90      0.89      1000\n",
            "\n",
            "    accuracy                           0.82     10000\n",
            "   macro avg       0.82      0.82      0.82     10000\n",
            "weighted avg       0.82      0.82      0.82     10000\n",
            "\n"
          ],
          "name": "stdout"
        }
      ]
    },
    {
      "cell_type": "code",
      "metadata": {
        "id": "Ggrxu2cC8Pas",
        "colab_type": "code",
        "colab": {
          "base_uri": "https://localhost:8080/",
          "height": 299
        },
        "outputId": "724ef3d8-3dd2-4c1f-a803-451881a0b125"
      },
      "source": [
        "plt.style.use(\"ggplot\")\n",
        "plt.figure()\n",
        "plt.plot(np.arange(0, 40), H.history[\"loss\"], label=\"train_loss\")\n",
        "plt.plot(np.arange(0, 40), H.history[\"val_loss\"], label=\"val_loss\")\n",
        "plt.plot(np.arange(0, 40), H.history[\"acc\"], label=\"train_acc\")\n",
        "plt.plot(np.arange(0, 40), H.history[\"val_acc\"], label=\"val_acc\")\n",
        "plt.title(\"Training Loss and Accuracy on CIFAR-10\")\n",
        "plt.xlabel(\"Epoch #\")\n",
        "plt.ylabel(\"Loss/Accuracy\")\n",
        "plt.legend()\n",
        "plt.show()\n",
        "#plt.savefig(args[\"output\"])"
      ],
      "execution_count": 6,
      "outputs": [
        {
          "output_type": "display_data",
          "data": {
            "image/png": "[encoded data removed]",
            "text/plain": [
              "<Figure size 432x288 with 1 Axes>"
            ]
          },
          "metadata": {
            "tags": []
          }
        }
      ]
    },
    {
      "cell_type": "code",
      "metadata": {
        "id": "xXhlnL1wyV6s",
        "colab_type": "code",
        "colab": {}
      },
      "source": [
        ""
      ],
      "execution_count": 0,
      "outputs": []
    }
  ]
}