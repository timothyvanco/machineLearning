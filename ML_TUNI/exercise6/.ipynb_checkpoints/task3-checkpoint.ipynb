{
 "cells": [
  {
   "cell_type": "code",
   "execution_count": 1,
   "metadata": {},
   "outputs": [],
   "source": [
    "from sklearn.linear_model import LogisticRegression\n",
    "from sklearn.model_selection import cross_val_score\n",
    "from scipy.io import loadmat\n",
    "from sklearn.metrics import accuracy_score"
   ]
  },
  {
   "cell_type": "code",
   "execution_count": 2,
   "metadata": {},
   "outputs": [
    {
     "name": "stdout",
     "output_type": "stream",
     "text": [
      "(1, 100)\n"
     ]
    }
   ],
   "source": [
    "mat = loadmat(\"arcene.mat\")\n",
    "print(mat[\"y_train\"].shape)\n",
    "\n",
    "\n",
    "X_train = mat[\"X_train\"]\n",
    "y_train = mat[\"y_train\"].ravel()\n",
    "X_test = mat[\"X_test\"] \n",
    "y_test = mat[\"y_test\"].ravel()"
   ]
  },
  {
   "cell_type": "code",
   "execution_count": 6,
   "metadata": {},
   "outputs": [
    {
     "name": "stderr",
     "output_type": "stream",
     "text": [
      "/Users/timco/.conda/envs/PatternRecogMLExercises/lib/python3.7/site-packages/sklearn/linear_model/logistic.py:432: FutureWarning: Default solver will be changed to 'lbfgs' in 0.22. Specify a solver to silence this warning.\n",
      "  FutureWarning)\n",
      "/Users/timco/.conda/envs/PatternRecogMLExercises/lib/python3.7/site-packages/sklearn/linear_model/logistic.py:432: FutureWarning: Default solver will be changed to 'lbfgs' in 0.22. Specify a solver to silence this warning.\n",
      "  FutureWarning)\n",
      "/Users/timco/.conda/envs/PatternRecogMLExercises/lib/python3.7/site-packages/sklearn/linear_model/logistic.py:432: FutureWarning: Default solver will be changed to 'lbfgs' in 0.22. Specify a solver to silence this warning.\n",
      "  FutureWarning)\n"
     ]
    },
    {
     "name": "stdout",
     "output_type": "stream",
     "text": [
      "Cross validation score:  [0.76470588 0.64705882 0.8125    ]\n",
      "number of features: 10000\n",
      "Accuracy of LogReg:  77.0 %\n"
     ]
    },
    {
     "name": "stderr",
     "output_type": "stream",
     "text": [
      "/Users/timco/.conda/envs/PatternRecogMLExercises/lib/python3.7/site-packages/sklearn/linear_model/logistic.py:432: FutureWarning: Default solver will be changed to 'lbfgs' in 0.22. Specify a solver to silence this warning.\n",
      "  FutureWarning)\n"
     ]
    }
   ],
   "source": [
    "C = 3\n",
    "\n",
    "# create a model - Logistic regression\n",
    "model = LogisticRegression(penalty = 'l1')\n",
    "print(\"Cross validation score: \", cross_val_score(model, X_train, y_train, cv=C)) \n",
    "\n",
    "model.fit(X_train, y_train)\n",
    "num_features = len(model.coef_.flatten())\n",
    "print('number of features:', num_features)\n",
    "\n",
    "predict = model.predict(X_test)\n",
    "acc = accuracy_score(predict, y_test)\n",
    "\n",
    "print(\"Accuracy of LogReg: \", acc*100, \"%\")"
   ]
  }
 ],
 "metadata": {
  "kernelspec": {
   "display_name": "Python 3",
   "language": "python",
   "name": "python3"
  },
  "language_info": {
   "codemirror_mode": {
    "name": "ipython",
    "version": 3
   },
   "file_extension": ".py",
   "mimetype": "text/x-python",
   "name": "python",
   "nbconvert_exporter": "python",
   "pygments_lexer": "ipython3",
   "version": "3.7.5"
  },
  "pycharm": {
   "stem_cell": {
    "cell_type": "raw",
    "metadata": {
     "collapsed": false
    },
    "source": []
   }
  }
 },
 "nbformat": 4,
 "nbformat_minor": 1
}
