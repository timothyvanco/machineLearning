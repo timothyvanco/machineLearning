{
 "cells": [
  {
   "cell_type": "markdown",
   "metadata": {
    "collapsed": true,
    "pycharm": {
     "is_executing": false
    }
   },
   "source": [
    "# Task 5\n",
    "Train ensemble methods with the GTSRB data"
   ]
  },
  {
   "cell_type": "code",
   "execution_count": 5,
   "metadata": {},
   "outputs": [],
   "source": [
    "import numpy as np\n",
    "import matplotlib.pyplot as plt\n",
    "from simplelbp import local_binary_pattern\n",
    "from traffic_signs import load_data\n",
    "from traffic_signs import extract_lbp_features\n",
    "from sklearn.model_selection import train_test_split\n",
    "from sklearn.metrics import accuracy_score"
   ]
  },
  {
   "cell_type": "markdown",
   "metadata": {},
   "source": [
    "### Load Dataset"
   ]
  },
  {
   "cell_type": "code",
   "execution_count": 2,
   "metadata": {},
   "outputs": [
    {
     "name": "stdout",
     "output_type": "stream",
     "text": [
      "Processing image 1/202\n",
      "Processing image 2/202\n",
      "Processing image 3/202\n",
      "Processing image 4/202\n",
      "Processing image 5/202\n",
      "Processing image 6/202\n",
      "Processing image 7/202\n",
      "Processing image 8/202\n",
      "Processing image 9/202\n",
      "Processing image 10/202\n",
      "Processing image 11/202\n",
      "Processing image 12/202\n",
      "Processing image 13/202\n",
      "Processing image 14/202\n",
      "Processing image 15/202\n",
      "Processing image 16/202\n",
      "Processing image 17/202\n",
      "Processing image 18/202\n",
      "Processing image 19/202\n",
      "Processing image 20/202\n",
      "Processing image 21/202\n",
      "Processing image 22/202\n",
      "Processing image 23/202\n",
      "Processing image 24/202\n",
      "Processing image 25/202\n",
      "Processing image 26/202\n",
      "Processing image 27/202\n",
      "Processing image 28/202\n",
      "Processing image 29/202\n",
      "Processing image 30/202\n",
      "Processing image 31/202\n",
      "Processing image 32/202\n",
      "Processing image 33/202\n",
      "Processing image 34/202\n",
      "Processing image 35/202\n",
      "Processing image 36/202\n",
      "Processing image 37/202\n",
      "Processing image 38/202\n",
      "Processing image 39/202\n",
      "Processing image 40/202\n",
      "Processing image 41/202\n",
      "Processing image 42/202\n",
      "Processing image 43/202\n",
      "Processing image 44/202\n",
      "Processing image 45/202\n",
      "Processing image 46/202\n",
      "Processing image 47/202\n",
      "Processing image 48/202\n",
      "Processing image 49/202\n",
      "Processing image 50/202\n",
      "Processing image 51/202\n",
      "Processing image 52/202\n",
      "Processing image 53/202\n",
      "Processing image 54/202\n",
      "Processing image 55/202\n",
      "Processing image 56/202\n",
      "Processing image 57/202\n",
      "Processing image 58/202\n",
      "Processing image 59/202\n",
      "Processing image 60/202\n",
      "Processing image 61/202\n",
      "Processing image 62/202\n",
      "Processing image 63/202\n",
      "Processing image 64/202\n",
      "Processing image 65/202\n",
      "Processing image 66/202\n",
      "Processing image 67/202\n",
      "Processing image 68/202\n",
      "Processing image 69/202\n",
      "Processing image 70/202\n",
      "Processing image 71/202\n",
      "Processing image 72/202\n",
      "Processing image 73/202\n",
      "Processing image 74/202\n",
      "Processing image 75/202\n",
      "Processing image 76/202\n",
      "Processing image 77/202\n",
      "Processing image 78/202\n",
      "Processing image 79/202\n",
      "Processing image 80/202\n",
      "Processing image 81/202\n",
      "Processing image 82/202\n",
      "Processing image 83/202\n",
      "Processing image 84/202\n",
      "Processing image 85/202\n",
      "Processing image 86/202\n",
      "Processing image 87/202\n",
      "Processing image 88/202\n",
      "Processing image 89/202\n",
      "Processing image 90/202\n",
      "Processing image 91/202\n",
      "Processing image 92/202\n",
      "Processing image 93/202\n",
      "Processing image 94/202\n",
      "Processing image 95/202\n",
      "Processing image 96/202\n",
      "Processing image 97/202\n",
      "Processing image 98/202\n",
      "Processing image 99/202\n",
      "Processing image 100/202\n",
      "Processing image 101/202\n",
      "Processing image 102/202\n",
      "Processing image 103/202\n",
      "Processing image 104/202\n",
      "Processing image 105/202\n",
      "Processing image 106/202\n",
      "Processing image 107/202\n",
      "Processing image 108/202\n",
      "Processing image 109/202\n",
      "Processing image 110/202\n",
      "Processing image 111/202\n",
      "Processing image 112/202\n",
      "Processing image 113/202\n",
      "Processing image 114/202\n",
      "Processing image 115/202\n",
      "Processing image 116/202\n",
      "Processing image 117/202\n",
      "Processing image 118/202\n",
      "Processing image 119/202\n",
      "Processing image 120/202\n",
      "Processing image 121/202\n",
      "Processing image 122/202\n",
      "Processing image 123/202\n",
      "Processing image 124/202\n",
      "Processing image 125/202\n",
      "Processing image 126/202\n",
      "Processing image 127/202\n",
      "Processing image 128/202\n",
      "Processing image 129/202\n",
      "Processing image 130/202\n",
      "Processing image 131/202\n",
      "Processing image 132/202\n",
      "Processing image 133/202\n",
      "Processing image 134/202\n",
      "Processing image 135/202\n",
      "Processing image 136/202\n",
      "Processing image 137/202\n",
      "Processing image 138/202\n",
      "Processing image 139/202\n",
      "Processing image 140/202\n",
      "Processing image 141/202\n",
      "Processing image 142/202\n",
      "Processing image 143/202\n",
      "Processing image 144/202\n",
      "Processing image 145/202\n",
      "Processing image 146/202\n",
      "Processing image 147/202\n",
      "Processing image 148/202\n",
      "Processing image 149/202\n",
      "Processing image 150/202\n",
      "Processing image 151/202\n",
      "Processing image 152/202\n",
      "Processing image 153/202\n",
      "Processing image 154/202\n",
      "Processing image 155/202\n",
      "Processing image 156/202\n",
      "Processing image 157/202\n",
      "Processing image 158/202\n",
      "Processing image 159/202\n",
      "Processing image 160/202\n",
      "Processing image 161/202\n",
      "Processing image 162/202\n",
      "Processing image 163/202\n",
      "Processing image 164/202\n",
      "Processing image 165/202\n",
      "Processing image 166/202\n",
      "Processing image 167/202\n",
      "Processing image 168/202\n",
      "Processing image 169/202\n",
      "Processing image 170/202\n",
      "Processing image 171/202\n",
      "Processing image 172/202\n",
      "Processing image 173/202\n",
      "Processing image 174/202\n",
      "Processing image 175/202\n",
      "Processing image 176/202\n",
      "Processing image 177/202\n",
      "Processing image 178/202\n",
      "Processing image 179/202\n",
      "Processing image 180/202\n",
      "Processing image 181/202\n",
      "Processing image 182/202\n",
      "Processing image 183/202\n",
      "Processing image 184/202\n",
      "Processing image 185/202\n",
      "Processing image 186/202\n",
      "Processing image 187/202\n",
      "Processing image 188/202\n",
      "Processing image 189/202\n",
      "Processing image 190/202\n",
      "Processing image 191/202\n",
      "Processing image 192/202\n",
      "Processing image 193/202\n",
      "Processing image 194/202\n",
      "Processing image 195/202\n",
      "Processing image 196/202\n",
      "Processing image 197/202\n",
      "Processing image 198/202\n",
      "Processing image 199/202\n",
      "Processing image 200/202\n",
      "Processing image 201/202\n",
      "Processing image 202/202\n"
     ]
    }
   ],
   "source": [
    "X, y = load_data(\".\")\n",
    "F = extract_lbp_features(X)"
   ]
  },
  {
   "cell_type": "code",
   "execution_count": 26,
   "metadata": {},
   "outputs": [],
   "source": [
    "X_train, X_test, y_train, y_test = train_test_split(F,y, test_size=0.2)"
   ]
  },
  {
   "cell_type": "markdown",
   "metadata": {},
   "source": [
    "### Train a 100-tree Random Forest classifier"
   ]
  },
  {
   "cell_type": "code",
   "execution_count": 27,
   "metadata": {},
   "outputs": [
    {
     "name": "stdout",
     "output_type": "stream",
     "text": [
      "1.0\n"
     ]
    }
   ],
   "source": [
    "from sklearn.ensemble import RandomForestClassifier\n",
    "rfc = RandomForestClassifier(n_estimators=100)\n",
    "rfc.fit(X_train,y_train)\n",
    "y_pred = rfc.predict(X_test)\n",
    "acc = accuracy_score(y_test, y_pred)\n",
    "print(acc)"
   ]
  },
  {
   "cell_type": "markdown",
   "metadata": {},
   "source": [
    "### Train a 100-tree Extremly Random Trees"
   ]
  },
  {
   "cell_type": "code",
   "execution_count": 28,
   "metadata": {},
   "outputs": [
    {
     "name": "stdout",
     "output_type": "stream",
     "text": [
      "1.0\n"
     ]
    }
   ],
   "source": [
    "from sklearn.ensemble import ExtraTreesClassifier\n",
    "ert = ExtraTreesClassifier(n_estimators=100)\n",
    "ert.fit(X_train,y_train)\n",
    "y_pred = ert.predict(X_test)\n",
    "acc = accuracy_score(y_test, y_pred)\n",
    "print(acc)"
   ]
  },
  {
   "cell_type": "markdown",
   "metadata": {},
   "source": [
    "### Train a 100-tree AdaBoost classifier"
   ]
  },
  {
   "cell_type": "code",
   "execution_count": 29,
   "metadata": {},
   "outputs": [
    {
     "name": "stdout",
     "output_type": "stream",
     "text": [
      "1.0\n"
     ]
    }
   ],
   "source": [
    "from sklearn.ensemble import AdaBoostClassifier\n",
    "abc = AdaBoostClassifier(n_estimators=100)\n",
    "abc.fit(X_train,y_train)\n",
    "y_pred = abc.predict(X_test)\n",
    "acc = accuracy_score(y_test, y_pred)\n",
    "print(acc)"
   ]
  },
  {
   "cell_type": "markdown",
   "metadata": {},
   "source": [
    "### Train a 100-tree Gradient Boosted Tree classifier"
   ]
  },
  {
   "cell_type": "code",
   "execution_count": 30,
   "metadata": {},
   "outputs": [
    {
     "name": "stdout",
     "output_type": "stream",
     "text": [
      "1.0\n"
     ]
    }
   ],
   "source": [
    "from sklearn.ensemble import GradientBoostingClassifier\n",
    "gbt = AdaBoostClassifier(n_estimators=100)\n",
    "gbt.fit(X_train,y_train)\n",
    "y_pred = gbt.predict(X_test)\n",
    "acc = accuracy_score(y_test, y_pred)\n",
    "print(acc)"
   ]
  }
 ],
 "metadata": {
  "kernelspec": {
   "display_name": "Python 3",
   "language": "python",
   "name": "python3"
  },
  "language_info": {
   "codemirror_mode": {
    "name": "ipython",
    "version": 3
   },
   "file_extension": ".py",
   "mimetype": "text/x-python",
   "name": "python",
   "nbconvert_exporter": "python",
   "pygments_lexer": "ipython3",
   "version": "3.7.4"
  }
 },
 "nbformat": 4,
 "nbformat_minor": 1
}
