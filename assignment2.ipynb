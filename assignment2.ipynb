{
 "cells": [
  {
   "cell_type": "code",
   "execution_count": null,
   "metadata": {
    "collapsed": true,
    "pycharm": {
     "is_executing": true
    }
   },
   "outputs": [],
   "source": [
    "import numpy as np\n",
    "import matplotlib.pyplot as plt\n",
    "import os\n",
    "import sys \n",
    "\n",
    "import cv2\n",
    "\n",
    "from sklearn.model_selection import train_test_split\n",
    "from sklearn.model_selection import cross_val_score\n",
    "import tensorflow as tf\n",
    "from sklearn.neighbors import KNeighborsClassifier\n",
    "from sklearn.discriminant_analysis import LinearDiscriminantAnalysis\n",
    "from sklearn.svm import SVC\n",
    "from sklearn.linear_model import LogisticRegression\n",
    "from sklearn.ensemble import RandomForestClassifier\n",
    "from sklearn.metrics import accuracy_score\n",
    "from tensorflow.keras.models import load_model\n",
    "import tensorflow\n",
    "from tensorflow.keras.models import Sequential\n",
    "from tensorflow.keras.layers import Dense, Dropout, Flatten\n",
    "from tensorflow.keras.layers import Conv2D, MaxPooling2D\n",
    "from tensorflow.keras import backend as K"
   ]
  },
  {
   "cell_type": "code",
   "execution_count": null,
   "metadata": {},
   "outputs": [],
   "source": [
    "path = \"C:/Work/sgndataset/train/\"\n",
    "class_names = sorted(os.listdir(path)) # need to correct\n",
    "\n",
    "base_model = tf.keras.applications.mobilenet.MobileNet(\n",
    "    input_shape = (224,224,3),\n",
    "    include_top = False)\n",
    "\n",
    "base_model.summary() # listing of the network structure\n",
    "\n",
    "in_tensor = base_model.inputs[0]\n",
    "out_tensor = base_model.outputs[0] \n",
    "  # Grab the input of base model out_tensor = base_model.outputs[0]\n",
    "  # Grab the output of base model\n",
    "  # Add an average pooling layer (averaging each of the 1024 channels):\n",
    "  \n",
    "out_tensor = tf.keras.layers.GlobalAveragePooling2D()(out_tensor)\n",
    "# Define the full model by the endpoints.\n",
    "model = tf.keras.models.Model(inputs = [in_tensor], outputs = [out_tensor])\n",
    "# Compile the model for execution. Losses and optimizers\n",
    "# can be anything here, since we don’t train the model. model.compile(loss = \"categorical_crossentropy\", optimizer = ’sgd’)"
   ]
  },
  {
   "cell_type": "code",
   "execution_count": null,
   "metadata": {},
   "outputs": [],
   "source": [
    "# Find all image files in the data directory.\n",
    "\n",
    "X = []  # Feature vectors will go here.\n",
    "y = []  # Class ids will go here.\n",
    "\n",
    "for root, dirs, files in os.walk(r\"C:/Work/sgndataset/train/\"):\n",
    "    for name in files:\n",
    "            # Load the image:\n",
    "        if name.endswith(\".jpg\"):\n",
    "            img = plt.imread(root + os.sep + name)\n",
    "            \n",
    "            # Resize it to the net input size:\n",
    "            img = cv2.resize(img, (224, 224))\n",
    "            \n",
    "            # Convert the data to float, and remove mean:\n",
    "            img = img.astype(np.float32)\n",
    "            img -= 128\n",
    "            \n",
    "            # Push the data through the model:\n",
    "#            x = model.predict(img[np.newaxis, ...])[0]\n",
    "            \n",
    "            # And append the feature vector to our list.\n",
    "            X.append(img)\n",
    "            \n",
    "            # Extract class name from the directory name:\n",
    "            label = root.split('/')[-1]\n",
    "            y.append(class_names.index(label))"
   ]
  },
  {
   "cell_type": "code",
   "execution_count": null,
   "metadata": {},
   "outputs": [],
   "source": [
    "# Cast the python lists to a numpy array.\n",
    "X = np.array(X)\n",
    "y = np.array(y)\n",
    "num_classes = 17\n",
    "#np.save('X_data',X)\n",
    "#np.save('y_data',y)\n",
    "X=np.load('Ximg_data.npy')\n",
    "Y=np.load('yimg_data.npy')"
   ]
  },
  {
   "cell_type": "code",
   "execution_count": null,
   "metadata": {},
   "outputs": [],
   "source": [
    "X_train, X_tst, y_train, y_test = train_test_split(X, Y, test_size = 0.2)\n",
    "\n",
    "y_train = tensorflow.keras.utils.to_categorical(y_train, num_classes)\n",
    "y_test = tensorflow.keras.utils.to_categorical(y_test, num_classes)\n",
    "# Classifiers\n",
    "\n",
    "#base_model = tensorflow.keras.applications.mobilenet.MobileNet(input_shape=(224,224,3),include_top = False, alpha=0.25)\n",
    "#base_model = tensorflow.keras.applications.mobilenet_v2.MobileNetV2(input_shape=(224,224,3),\n",
    "#                                                                    alpha=1.0, include_top=False,\n",
    "#                                                                    weights='imagenet', input_tensor=None, pooling=None, classes=17)\n",
    "base_model = tensorflow.keras.applications.inception_v3.InceptionV3(include_top=False, weights='imagenet',\n",
    "                                                                    input_tensor=None, input_shape=(224,224,3), pooling=None, classes=17)\n",
    "\n",
    "\n",
    "\n"
   ]
  },
  {
   "cell_type": "code",
   "execution_count": null,
   "metadata": {},
   "outputs": [],
   "source": [
    "in_tensor = base_model.inputs[0] # Grab the input of base model\n",
    "# Grab the output of base model\n",
    "out_tensor = base_model.outputs[0]\n",
    "out_tensor =tensorflow.keras.layers.Flatten()(out_tensor)\n",
    "out_tensor =tensorflow.keras.layers.Dense(100, activation='relu')(out_tensor)\n",
    "out_tensor =tensorflow.keras.layers.Dense(17,activation='softmax')(out_tensor)\n",
    "model = tensorflow.keras.models.Model(inputs = [in_tensor],outputs = [out_tensor])\n",
    "model.summary()\n",
    "batch_size = 50\n",
    "\n",
    "epochs = 15\n",
    "\n",
    "model.compile(loss=tensorflow.keras.losses.categorical_crossentropy,\n",
    "              optimizer=tensorflow.keras.optimizers.Adadelta(),\n",
    "              metrics=['accuracy'])\n",
    "\n",
    "model.fit(X_train, y_train,batch_size=batch_size,epochs=epochs,verbose=1,validation_data=(X_tst, y_test))\n",
    "score = model.evaluate(X_tst, y_test, verbose=0)\n",
    "\n",
    "print('Test loss:', score[0])\n",
    "print('Test accuracy:', score[1])\n",
    "\n",
    "\n",
    "\n",
    "\n",
    "model=load_model('incep_86.h5')"
   ]
  },
  {
   "cell_type": "code",
   "execution_count": null,
   "metadata": {},
   "outputs": [],
   "source": [
    "with open(\"submission.csv\", \"w\") as fp:\n",
    "    fp.write(\"Id, Category\\n\")\n",
    "    for image in os.walk(r\"C:/Work/sgndataset/testset/\"):\n",
    "        image=image.split('.')[0]\n",
    "# 1. load image and resize\n",
    "        img = cv2.resize(image, (224, 224))\n",
    "            \n",
    "            # Convert the data to float, and remove mean:\n",
    "        img = img.astype(np.float32)\n",
    "        img -= 128\n",
    "            \n",
    "            # Push the data through the model:\n",
    "#            x = model.predict(img[np.newaxis, ...])[0]\n",
    "            \n",
    "            # And append the feature vector to our list.\n",
    "        pred=model.predict(img)\n",
    "            \n",
    "            # Extract class name from the directory name:\n",
    "        label = label = class_names[pred]\n",
    "            \n",
    "# 2. vectorize using the net\n",
    "# 3. predict class using the sklearn model\n",
    "# 4. convert class id to name (label = class_names[class_index])\n",
    "fp.write(\"%d,%s\\n\" % (image, label))"
   ]
  }
 ],
 "metadata": {
  "kernelspec": {
   "display_name": "Python 3",
   "language": "python",
   "name": "python3"
  },
  "language_info": {
   "codemirror_mode": {
    "name": "ipython",
    "version": 3
   },
   "file_extension": ".py",
   "mimetype": "text/x-python",
   "name": "python",
   "nbconvert_exporter": "python",
   "pygments_lexer": "ipython3",
   "version": "3.7.4"
  }
 },
 "nbformat": 4,
 "nbformat_minor": 1
}
